{
 "cells": [
  {
   "cell_type": "code",
   "execution_count": 1,
   "metadata": {
    "collapsed": true
   },
   "outputs": [],
   "source": [
    "import bisect\n",
    "# go to the parent folder\n",
    "import os\n",
    "\n",
    "import matplotlib.pyplot as plt\n",
    "\n",
    "os.chdir(\"..\")\n",
    "\n",
    "import numpy as np\n",
    "import pandas as pd\n",
    "import time\n",
    "\n",
    "# Our package\n",
    "from RB_method_for_model_identification.RBForModelIdentification import RBForModelIdentification"
   ]
  },
  {
   "cell_type": "markdown",
   "source": [
    "# Inference of real data"
   ],
   "metadata": {
    "collapsed": false
   }
  },
  {
   "cell_type": "markdown",
   "source": [
    "In this example, we consider a data set from real experiments. Potentially, the circuit can be described by a three gene-state model as follows:\n",
    "\\begin{align}\n",
    "&\\text{Gene Activation:} && G \\to G^* && \\text{Propensity:} ~ k_{1} X_G \\\\\n",
    "&\\text{Gene Deactivation:} && G^* \\to G && \\text{Propensity:} ~ k_{2} X_{G^*} \\\\\n",
    "&\\text{Gene Further activation:} && G^* \\to G^{**} && \\text{Propensity:} ~ k_3 X_{G^*} \\\\\n",
    "&\\text{Gene Deactivation:} && G^{**} \\to G^* && \\text{Propensity:} ~ k_4 X_{G^{**}} \\\\\n",
    "&\\text{mRNA Transcription:} && \\emptyset \\to \\text{mRNA} && \\text{Propensity:} ~ k_{p1} X_{G^*} + (k_{p1}+k_{p2}) X_{G^{**}}  \\\\\n",
    "&\\text{mRNA Degration:} &&\\text{mRNA} \\to \\emptyset && \\text{Propensity:} ~ k_d X_\\text{mRNA} \\\\\n",
    "\\end{align}\n",
    "the gene can transition between three distinct states, with mRNA being produced when the gene is in either of the two activated states. Additionally, the rate of mRNA degradation is directly proportional to its copy number. Also, the mRNA exhibits fluorescence, allowing for the use of a microscope to record its dynamics very 2 minutes."
   ],
   "metadata": {
    "collapsed": false
   }
  },
  {
   "cell_type": "code",
   "execution_count": 2,
   "outputs": [
    {
     "name": "stdout",
     "output_type": "stream",
     "text": [
      "leader species:  ['G1', 'G2']\n",
      "follower species:  ['mRNA', 'G0']\n",
      "follower parameters:  ['k1', 'k3', 'kp2', 'kp1', 'k2', 'k4']\n"
     ]
    },
    {
     "data": {
      "text/plain": "<Figure size 800x800 with 1 Axes>",
      "image/png": "[encoded data removed]"
     },
     "metadata": {},
     "output_type": "display_data"
    },
    {
     "name": "stdout",
     "output_type": "stream",
     "text": [
      "Number of subsystems: 4\n",
      "-----------------------------------------------------\n",
      "    xi_1  xi_2  xi_3  xi_4\n",
      "G1    -1    -1     1     1\n",
      "G2     0     1    -1     0\n",
      "-----------------------------------------------------\n",
      "Subsystem:  1\n",
      "Involved parameters and species: ['k1', 'k2', 'G0']\n",
      "Unobservable reactions involved: []\n",
      "Observable reactions involved: ['G Act. 1', 'G Deg. 1']\n",
      "Xi involved: ['xi_4', 'xi_1']\n",
      "Size of state space of this subsystem: 882\n",
      "-----------------------------------------------------\n",
      "Subsystem:  2\n",
      "Involved parameters and species: ['k3']\n",
      "Unobservable reactions involved: []\n",
      "Observable reactions involved: ['G Act. 2']\n",
      "Xi involved: ['xi_2']\n",
      "Size of state space of this subsystem: 21\n",
      "-----------------------------------------------------\n",
      "Subsystem:  3\n",
      "Involved parameters and species: ['kp2', 'kp1', 'mRNA']\n",
      "Unobservable reactions involved: ['mRNA prod.', 'mRNA deg.']\n",
      "Observable reactions involved: []\n",
      "Xi involved: []\n",
      "Size of state space of this subsystem: 18271\n",
      "-----------------------------------------------------\n",
      "Subsystem:  4\n",
      "Involved parameters and species: ['k4']\n",
      "Unobservable reactions involved: []\n",
      "Observable reactions involved: ['G Deg. 2']\n",
      "Xi involved: ['xi_3']\n",
      "Size of state space of this subsystem: 21\n",
      "-----------------------------------------------------\n"
     ]
    }
   ],
   "source": [
    "# The network structure\n",
    "species_names = ['G0', 'G1', 'G2', 'mRNA']\n",
    "stoichiometric_matrix = [[-1, 1, 0, 0, 0, 0],\n",
    "                         [1, -1, -1, 1, 0, 0],\n",
    "                         [0, 0, 1,-1, 0, 0],\n",
    "                         [0, 0, 0, 0, 1,-1]]\n",
    "parameters_names = ['k1','k2', 'k3', 'k4', 'kp1', 'kp2']\n",
    "reaction_names = ['G Act. 1', 'G Deg. 1', 'G Act. 2', 'G Deg. 2', 'mRNA prod.', 'mRNA deg.']\n",
    "propensities = [\n",
    "    lambda k1, G0: k1*G0,\n",
    "    lambda k2, G1: k2*G1,\n",
    "    lambda k3, G1: k3*G1,\n",
    "    lambda k4, G2: k4*G2,\n",
    "    lambda kp1, kp2, G1, G2: kp1*G1 + (kp1+kp2)*G2,\n",
    "    lambda mRNA: mRNA\n",
    "]\n",
    "\n",
    "range_of_species = \\\n",
    "    pd.DataFrame([[0, 1], [0, 1], [0, 1], [0, 150] ], index=species_names, columns=['min', 'max'])\n",
    "range_of_parameters= \\\n",
    "    pd.DataFrame([[0, 1], [0, 1], [0, 1], [0, 1], [0, 80], [20, 120]],index=parameters_names,columns=['min', 'max'])\n",
    "discretization_size_parameters = \\\n",
    "    pd.DataFrame([21, 21, 21, 21, 11, 11], index=parameters_names) #index=parameters_names\n",
    "\n",
    "# The observation related information\n",
    "# h_function = [\n",
    "#     lambda Protein: Protein\n",
    "# ]\n",
    "h_function = [\n",
    "    lambda mRNA: np.where(mRNA > 7, mRNA, 0)\n",
    "]\n",
    "observation_noise_intensity = [\n",
    "    lambda : 1\n",
    "]\n",
    "#observation_noise_intensity = {'sigma1': 0.1}\n",
    "\n",
    "maximum_size_of_each_follower_subsystem = 20000 #800 # 1000\n",
    "\n",
    "\n",
    "MI = RBForModelIdentification(\n",
    "    species_names=species_names,\n",
    "    stoichiometric_matrix=stoichiometric_matrix,\n",
    "    parameters_names=parameters_names,\n",
    "    reaction_names=reaction_names,\n",
    "    propensities=propensities,\n",
    "    range_of_species=range_of_species,\n",
    "    range_of_parameters=range_of_parameters,\n",
    "    observation_noise_intensity=observation_noise_intensity,\n",
    "    discretization_size_parameters=discretization_size_parameters,\n",
    "    h_function=h_function,\n",
    "    maximum_size_of_each_follower_subsystem=maximum_size_of_each_follower_subsystem)\n",
    "\n",
    "print('leader species: ', MI.leader_species_time_course_data)\n",
    "print('follower species: ', MI.get_follower_species_time_course_data())\n",
    "print('follower parameters: ', MI.get_follower_parameters_time_course_data())\n",
    "MI.leader_follower_decomposition_result_time_course_data.plot_decomposition()"
   ],
   "metadata": {
    "collapsed": false
   }
  },
  {
   "cell_type": "markdown",
   "source": [
    "## Load the result"
   ],
   "metadata": {
    "collapsed": false
   }
  },
  {
   "cell_type": "code",
   "execution_count": 3,
   "outputs": [],
   "source": [
    "import pickle\n",
    "\n",
    "# cell index = 78, 18, 20, 39 43, 51, 79, 82, 83, 87, 88, 93, 96, 107, 123, 139\n",
    "\n",
    "cell_index = 78\n",
    "\n",
    "# Load the objects from the pickle file\n",
    "with open(f\"Example_of_model_identification/results_in_paper/real_data_cell_index_{cell_index}_particle_number_3000_larger_space.pkl\", 'rb') as f:\n",
    "    data = pickle.load(f)\n",
    "\n",
    "\n",
    "# Create a new object from the dictionary\n",
    "Marginal_distributions_over_time = data['margin_distributions_over_time']\n",
    "time_result = data['time_result']\n",
    "mean_result = data['mean_result']\n",
    "std_result = data['std_result']\n",
    "Y_list = data['Y_list']\n"
   ],
   "metadata": {
    "collapsed": false
   }
  },
  {
   "cell_type": "code",
   "execution_count": 4,
   "outputs": [
    {
     "data": {
      "text/plain": "<Figure size 275.591x118.11 with 1 Axes>",
      "image/png": "[encoded data removed]"
     },
     "metadata": {},
     "output_type": "display_data"
    }
   ],
   "source": [
    "# plot the observation\n",
    "def cm_to_inch(value):\n",
    "    return value/2.54\n",
    "\n",
    "tf =240\n",
    "dt = 2\n",
    "Observation_times_list = np.arange(dt, tf+dt, dt)\n",
    "\n",
    "\n",
    "fig = plt.figure(figsize=(cm_to_inch(7), cm_to_inch(3)))\n",
    "#plt.step(time_list, np.array(state_list)[:,3],where='post',linewidth=0.75, label='mRNA')\n",
    "#plt.plot(Observation_times_list, Y_list, 'o', markersize=0.75, label='Measurements')\n",
    "plt.step(Observation_times_list, Y_list,where='post',linewidth=0.75, label='mRNA')\n",
    "\n",
    "plt.xlim((0, 240))\n",
    "plt.ylim((0, 120))\n",
    "xticks = np.arange(0, 241, step=60)\n",
    "plt.xticks(xticks)  # Set the x-ticks\n",
    "plt.xlabel('Time (min)', fontsize=6)\n",
    "plt.ylabel('mRNA Measurements', fontsize=6)\n",
    "plt.tick_params(axis='x', labelsize=6, direction='in', length=1)\n",
    "\n",
    "yticks = np.arange(0, 121, step=30)\n",
    "plt.yticks(yticks)\n",
    "plt.tick_params(axis='y', labelsize=6, direction='in', length=1)\n",
    "\n",
    "#plt.legend(loc='upper right', fontsize=6)\n",
    "\n",
    "plt.subplots_adjust(bottom=0.3)\n",
    "\n",
    "#plt.tight_layout()  # This will ensure everything fits in the figure area\n",
    "\n",
    "# Save the figure as an EPS file\n",
    "fig.savefig(\"figure.eps\", format='eps')"
   ],
   "metadata": {
    "collapsed": false
   }
  },
  {
   "cell_type": "code",
   "execution_count": 6,
   "outputs": [
    {
     "name": "stdout",
     "output_type": "stream",
     "text": [
      "mean of the mRNA measurements: 25.959617520037067, std of the mRNA measurements: 23.65400840160905\n"
     ]
    }
   ],
   "source": [
    "mean = np.mean(Y_list)\n",
    "std = np.std(Y_list)\n",
    "print(f\"mean of the mRNA measurements: {mean}, std of the mRNA measurements: {std}\")"
   ],
   "metadata": {
    "collapsed": false
   }
  },
  {
   "cell_type": "code",
   "execution_count": 7,
   "outputs": [
    {
     "data": {
      "text/plain": "<Figure size 118.11x118.11 with 1 Axes>",
      "image/png": "[encoded data removed]"
     },
     "metadata": {},
     "output_type": "display_data"
    }
   ],
   "source": [
    "# plot marginal distributions\n",
    "\n",
    "parameter_species_names = MI.parameters_names + MI.species_names\n",
    "marginal_distributions = sorted(Marginal_distributions_over_time[-1], key=lambda x: parameter_species_names.index(next(iter(x.parameter_species_ordering))))\n",
    "\n",
    "\n",
    "# something to change for different plot\n",
    "marginal_distribution = marginal_distributions[5]\n",
    "name_to_show = '$k_{p2}$'\n",
    "\n",
    "\n",
    "distribution = marginal_distribution.distribution_list[-1].copy()\n",
    "states = marginal_distribution.states.copy()\n",
    "name = list(marginal_distribution.parameter_species_ordering.keys())[0]\n",
    "\n",
    "\n",
    "fig = plt.figure(figsize=(cm_to_inch(3), cm_to_inch(3)))\n",
    "\n",
    "plt.bar(states.reshape(-1), distribution.reshape(-1), width=states[1] - states[0], label='Estimated distribution')\n",
    "# plt.axvline(x=parameter_values[name], color='r', linestyle='--', label='real value')\n",
    "\n",
    "plt.xlabel(name_to_show +' (per minute)', fontsize=6)\n",
    "plt.ylabel('Probability', fontsize=6)\n",
    "\n",
    "plt.tick_params(axis='x', labelsize=6, direction='in', length=1)\n",
    "plt.tick_params(axis='y', labelsize=6, direction='in', length=1)\n",
    "\n",
    "if name in ['k1', 'k2', 'k3']:\n",
    "    xticks = np.arange(0, 1.1, step=0.5)\n",
    "    plt.xlim((0-0.025, 1+0.025))\n",
    "    yticks = np.arange(0, 0.21, step=0.1)\n",
    "    #yticks = np.arange(0, 0.91, step=0.3)\n",
    "elif name in ['k4']:\n",
    "    xticks = np.arange(0, 2.1, step=1)\n",
    "    plt.xlim((0-0.1, 1+0.1))\n",
    "    yticks = np.arange(0, 0.21, step=0.1)\n",
    "elif name in ['kp1']:\n",
    "    xticks = np.arange(0, 81, step=20)\n",
    "    plt.xlim((0, 80))\n",
    "    #yticks = np.arange(0, 0.61, step=0.2)\n",
    "    yticks = np.arange(0, 0.91, step=0.3)\n",
    "else:\n",
    "    xticks = np.arange(20, 121, step=25)\n",
    "    plt.xlim((20, 120))\n",
    "    yticks = np.arange(0, 0.51, step=0.2)\n",
    "\n",
    "\n",
    "plt.xticks(xticks)  # Set the x-ticks\n",
    "plt.yticks(yticks)  # Set the x-ticks\n",
    "\n",
    "\n",
    "\n",
    "\n",
    "# plt.legend(loc='upper left', fontsize=6)\n",
    "\n",
    "\n",
    "\n",
    "plt.subplots_adjust(bottom=0.2, left= 0.2)\n",
    "\n",
    "\n",
    "\n",
    "fig.savefig(\"figure.eps\", format='eps')"
   ],
   "metadata": {
    "collapsed": false
   }
  },
  {
   "cell_type": "code",
   "execution_count": 8,
   "outputs": [],
   "source": [
    "# compute the stationary distribution of the infreed model\n",
    "\n",
    "from CRN_Simulation.MarginalDistribution import MarginalDistribution\n",
    "Initial_marginal_distributions = MI.generate_uniform_marginal_distributions_via_speceis_range(MI.range_of_species)\n",
    "delta_distribution = np.zeros((len(Initial_marginal_distributions['mRNA'].states), 1))\n",
    "delta_distribution[0] = 1\n",
    "Initial_marginal_distributions['mRNA'].adjust_distribution(delta_distribution)\n",
    "# initial distribution of G0, G1, G2\n",
    "Initial_marginal_distributions['G0'].adjust_distribution(np.array([[0], [1]]))\n",
    "Initial_marginal_distributions['G1'].adjust_distribution(np.array([[1], [0]]))\n",
    "Initial_marginal_distributions['G2'].adjust_distribution(np.array([[1], [0]]))\n",
    "\n",
    "MAP_parameter_dict = {}\n",
    "for i in range(len(Marginal_distributions_over_time[-1])):\n",
    "    element = list(Marginal_distributions_over_time[-1][i].parameter_species_ordering.keys())[0]\n",
    "    if element in MI.parameters_names:\n",
    "        map_index = np.argmax(Marginal_distributions_over_time[-1][i].distribution_list[-1])\n",
    "        map_state = Marginal_distributions_over_time[-1][i].states[map_index, 0]\n",
    "        MAP_parameter_dict.update({element: map_state})\n",
    "\n",
    "\n",
    "Tf = 100\n",
    "distribution_inferred_model = MI.FSP(Initial_marginal_distributions, MI.range_of_species, MAP_parameter_dict, 0, Tf, normalization=True)\n",
    "marginal_distributions_over_time = distribution_inferred_model.extract_marginal_distributions_over_time()\n",
    "mRNA_distribution_inferred_model = marginal_distributions_over_time[-1]['mRNA'].distribution\n",
    "mRNA_distribution_inferred_model = mRNA_distribution_inferred_model.flatten()\n",
    "\n",
    "\n",
    "dx = 10\n",
    "\n",
    "bins = np.arange(0, 150, dx)\n",
    "data_distribution= [0]*len(bins)\n",
    "for i in range(len(bins)-1):\n",
    "    for j in range(5, len(Y_list)):\n",
    "        if bins[i] <= Y_list[j] < bins[i+1]:\n",
    "            data_distribution[i] += 1\n",
    "data_distribution = np.array(data_distribution)/sum(data_distribution)\n",
    "\n",
    "\n",
    "new_distribution= [0]*len(bins)\n",
    "\n",
    "for i in range(len(bins)-1):\n",
    "    for j in range(len(mRNA_distribution_inferred_model)):\n",
    "        if bins[i] <= j < bins[i+1]:\n",
    "            new_distribution[i] += mRNA_distribution_inferred_model[j]\n",
    "\n",
    "x = [x+dx/2 for x in bins]\n",
    "\n",
    "weights = np.ones_like(Y_list) / len(Y_list)\n",
    "# plt.hist(np.array(Y_list[5:]).reshape(-1), weights=weights, bins=bins, edgecolor='black', alpha=0.75, label='data')\n",
    "x = [x+dx/2 for x in bins]\n"
   ],
   "metadata": {
    "collapsed": false
   }
  },
  {
   "cell_type": "code",
   "execution_count": 9,
   "outputs": [
    {
     "data": {
      "text/plain": "<Figure size 177.165x118.11 with 1 Axes>",
      "image/png": "[encoded data removed]"
     },
     "metadata": {},
     "output_type": "display_data"
    }
   ],
   "source": [
    "fig = plt.figure(figsize=(cm_to_inch(4.5), cm_to_inch(3)))\n",
    "#fig = plt.figure(figsize=(cm_to_inch(5), cm_to_inch(3)))\n",
    "plt.bar(x, data_distribution, width=dx, alpha=0.5, label='Experiment')\n",
    "\n",
    "plt.bar(x, new_distribution, color='red', width=dx, alpha=0.5, label='Inferred model')\n",
    "# plt.plot(x, new_distribution, color='red', label='inferred')\n",
    "\n",
    "plt.legend(loc='upper right', fontsize=6)\n",
    "\n",
    "plt.tick_params(axis='x', labelsize=6, direction='in', length=1)\n",
    "plt.tick_params(axis='y', labelsize=6, direction='in', length=1)\n",
    "\n",
    "plt.xlabel( 'mRNA counts', fontsize=6)\n",
    "# plt.ylabel('Probability', fontsize=6)\n",
    "plt.title(f'Stationary distribution (cell #{cell_index})', fontsize=7)\n",
    "#plt.title(f'Stationary distribution', fontsize=7)\n",
    "\n",
    "xticks = np.arange(0, 121, step=30)\n",
    "plt.xticks(xticks)  # Set the x-ticks\n",
    "plt.xlim((0, 120))\n",
    "yticks = np.arange(0, 0.31, step=0.1)\n",
    "plt.yticks(yticks)  # Set the x-ticks\n",
    "\n",
    "plt.subplots_adjust(bottom=0.22)\n",
    "\n",
    "fig.savefig(\"figure.pdf\", format='pdf')"
   ],
   "metadata": {
    "collapsed": false
   }
  },
  {
   "cell_type": "code",
   "execution_count": 11,
   "outputs": [
    {
     "name": "stdout",
     "output_type": "stream",
     "text": [
      "KL-divergence: 0.03139576194766626\n"
     ]
    }
   ],
   "source": [
    "from scipy.stats import entropy\n",
    "\n",
    "kl_divergence = entropy(data_distribution, new_distribution)\n",
    "print('KL-divergence:', kl_divergence)"
   ],
   "metadata": {
    "collapsed": false
   }
  },
  {
   "cell_type": "code",
   "execution_count": 12,
   "outputs": [
    {
     "name": "stderr",
     "output_type": "stream",
     "text": [
      "100%|██████████| 6/6 [01:51<00:00, 18.62s/it]"
     ]
    },
    {
     "name": "stdout",
     "output_type": "stream",
     "text": [
      "Elasticity: {'k1': 0.34759938091779913, 'k2': -0.3563474406205164, 'k3': 0.31835651940487614, 'k4': -0.29782392476087616, 'kp1': 0.6913571025060207, 'kp2': 0.3086370919575036}\n"
     ]
    },
    {
     "name": "stderr",
     "output_type": "stream",
     "text": [
      "\n"
     ]
    }
   ],
   "source": [
    "# the sensitivity of the parameters\n",
    "\n",
    "from tqdm import tqdm\n",
    "\n",
    "MAP_parameter_dict = {}\n",
    "for i in range(len(Marginal_distributions_over_time[-1])):\n",
    "    element = list(Marginal_distributions_over_time[-1][i].parameter_species_ordering.keys())[0]\n",
    "    if element in MI.parameters_names:\n",
    "        map_index = np.argmax(Marginal_distributions_over_time[-1][i].distribution_list[-1])\n",
    "        map_state = Marginal_distributions_over_time[-1][i].states[map_index, 0]\n",
    "        MAP_parameter_dict.update({element: map_state})\n",
    "\n",
    "\n",
    "distribution_real_model = MI.FSP(Initial_marginal_distributions, MI.range_of_species, MAP_parameter_dict, 0, Tf, normalization=True)\n",
    "time, real_expectation_list = distribution_real_model.expectation()\n",
    "real_mRNA_mean = real_expectation_list[-1]['mRNA']\n",
    "\n",
    "Mean_changed = {}\n",
    "for parameter in tqdm(MI.parameters_names):\n",
    "    new_parameter_values = MAP_parameter_dict.copy()\n",
    "    new_parameter_values[parameter] = 1.1*MAP_parameter_dict[parameter]\n",
    "    distribution_perturbed_model = MI.FSP(Initial_marginal_distributions, MI.range_of_species, new_parameter_values, 0, Tf, normalization=True)\n",
    "    time, changed_expectation_list = distribution_perturbed_model.expectation()\n",
    "    Mean_changed.update({parameter: changed_expectation_list[-1]['mRNA']})\n",
    "\n",
    "elasticity = {}\n",
    "for parameter in MI.parameters_names:\n",
    "    elasticity.update({parameter: (Mean_changed[parameter] - real_mRNA_mean)/real_mRNA_mean/0.1})\n",
    "\n",
    "print('Elasticity:', elasticity)"
   ],
   "metadata": {
    "collapsed": false
   }
  },
  {
   "cell_type": "code",
   "execution_count": 3,
   "outputs": [
    {
     "name": "stdout",
     "output_type": "stream",
     "text": [
      "Number of measured cells: 130\n",
      "Cell Indexes: [15, 16, 17, 18, 19, 20, 21, 22, 23, 24, 25, 26, 27, 28, 29, 30, 32, 33, 34, 35, 36, 37, 38, 39, 40, 41, 42, 43, 44, 45, 46, 47, 48, 49, 50, 51, 52, 53, 54, 55, 57, 59, 61, 62, 63, 65, 66, 67, 68, 69, 70, 71, 72, 73, 74, 76, 77, 78, 79, 80, 81, 82, 83, 84, 85, 87, 88, 89, 90, 91, 93, 95, 96, 98, 100, 101, 102, 103, 104, 105, 106, 107, 108, 109, 110, 111, 112, 113, 114, 115, 116, 117, 118, 119, 120, 121, 122, 123, 124, 125, 126, 127, 128, 129, 130, 131, 132, 133, 134, 135, 136, 138, 139, 140, 141, 142, 143, 145, 146, 147, 148, 150, 151, 152, 153, 154, 155, 156, 157, 158]\n"
     ]
    }
   ],
   "source": [
    "# Number of measured cells\n",
    "import scipy.io as sio\n",
    "import matplotlib.pyplot as plt\n",
    "from scipy.stats import poisson\n",
    "\n",
    "file_name = 'Example_of_model_identification/real_data/data45.mat'\n",
    "real_data = sio.loadmat(file_name)\n",
    "\n",
    "measured_cell_indexes = []\n",
    "\n",
    "for cell_index in range(len(real_data['cellTrajectory'][0])):\n",
    "    mRNA_trjectatory = real_data['cellTrajectory'][0,cell_index][0,0][0]/73\n",
    "    Observation_times_list= list(range(2, len(mRNA_trjectatory)*2, 2))\n",
    "    if len(mRNA_trjectatory) > 5:\n",
    "        measured_cell_indexes.append(cell_index)\n",
    "\n",
    "print('Number of measured cells:', len(measured_cell_indexes))\n",
    "print('Cell Indexes:', measured_cell_indexes)"
   ],
   "metadata": {
    "collapsed": false
   }
  },
  {
   "cell_type": "markdown",
   "source": [
    "## Plot the figures for noise analysis"
   ],
   "metadata": {
    "collapsed": false
   }
  },
  {
   "cell_type": "code",
   "execution_count": 13,
   "outputs": [],
   "source": [
    "import pickle\n",
    "\n",
    "# Load the objects from the pickle file\n",
    "with open(f\"Example_of_model_identification/results_in_paper/noise_analysis.pkl\", 'rb') as f:\n",
    "    data = pickle.load(f)\n",
    "\n",
    "\n",
    "# Create a new object from the dictionary\n",
    "measured_cell_indexes = data['measured_cell_indexes']\n",
    "parameters_MAP_list = data['parameters_MAP_list']\n",
    "stationary_mean_real_cell_list = data['stationary_mean_real_cell_list']\n",
    "stationary_mean_inferred_mode_list = data['stationary_mean_inferred_mode_list']\n",
    "stationary_variance_real_cell_list = data['stationary_variance_real_cell_list']\n",
    "stationary_variance_inferred_mode_list = data['stationary_variance_inferred_mode_list']\n",
    "time = data['time']\n",
    "mean_inferred_model_over_time_list = data['mean_inferred_model_over_time_list']\n",
    "variance_inferred_model_over_time_list = data['variance_inferred_model_over_time_list']\n",
    "mRNA_real_cell_over_time_list = data['mRNA_real_cell_over_time_list']\n"
   ],
   "metadata": {
    "collapsed": false
   }
  },
  {
   "cell_type": "code",
   "execution_count": 14,
   "outputs": [
    {
     "data": {
      "text/plain": "<Figure size 137.795x137.795 with 1 Axes>",
      "image/png": "[encoded data removed]"
     },
     "metadata": {},
     "output_type": "display_data"
    }
   ],
   "source": [
    "# Plot the MAP estimates among the cells\n",
    "def cm_to_inch(value):\n",
    "    return value/2.54\n",
    "\n",
    "# something to change for different plot\n",
    "parameter_name = 'k3'\n",
    "name_to_show = '$k_{p3}$'\n",
    "\n",
    "\n",
    "if parameter_name in ['k1', 'k2', 'k3']:\n",
    "    bins = np.arange(0-0.025, 1.026, 0.05)\n",
    "elif parameter_name in ['k4']:\n",
    "    bins = np.arange(0-0.05, 2.06, 0.1)\n",
    "elif parameter_name in ['kp1']:\n",
    "    bins = np.arange(0-4, 85, 8)\n",
    "elif parameter_name in ['kp2']:\n",
    "    bins = np.arange(20-5, 121+5, 10)\n",
    "\n",
    "data = [ element[parameter_name] for element in parameters_MAP_list]\n",
    "\n",
    "fig = plt.figure(figsize=(cm_to_inch(3.5), cm_to_inch(3.5)))\n",
    "\n",
    "plt.hist(data, bins=bins)\n",
    "\n",
    "if parameter_name in ['kp1']:\n",
    "    xticks = np.arange(0, 81, step=40)\n",
    "    plt.xticks(xticks)  # Set the x-ticks\n",
    "    plt.yticks(np.arange(0, 31, step=10))  # Set the y-ticks\n",
    "if parameter_name in ['kp2']:\n",
    "    xticks = np.arange(20, 121, step=50)\n",
    "    plt.xticks(xticks)  # Set the x-ticks\n",
    "\n",
    "plt.xlabel(name_to_show +' (per minute)', fontsize=6)\n",
    "plt.ylabel('Number of cells', fontsize=6)\n",
    "\n",
    "plt.tick_params(axis='x', labelsize=6, direction='in', length=1)\n",
    "plt.tick_params(axis='y', labelsize=6, direction='in', length=1)\n",
    "\n",
    "\n",
    "\n",
    "\n",
    "\n",
    "\n",
    "plt.subplots_adjust(bottom=0.2, left= 0.2)\n",
    "\n",
    "fig.savefig(\"figure.eps\", format='eps')\n"
   ],
   "metadata": {
    "collapsed": false
   }
  },
  {
   "cell_type": "code",
   "execution_count": 15,
   "outputs": [
    {
     "data": {
      "text/plain": "<Figure size 98.4252x98.4252 with 1 Axes>",
      "image/png": "[encoded data removed]"
     },
     "metadata": {},
     "output_type": "display_data"
    }
   ],
   "source": [
    "# plot the stationary mean of real cells and inferred model\n",
    "\n",
    "fig = plt.figure(figsize=(cm_to_inch(2.5), cm_to_inch(2.5)))\n",
    "\n",
    "plt.plot(stationary_mean_real_cell_list, stationary_mean_inferred_mode_list, 'o', markersize=1, color='black')\n",
    "plt.plot([0, 100], [0, 100], '--', color='red', linewidth=1)\n",
    "\n",
    "plt.tick_params(axis='x', labelsize=6, direction='in', length=1)\n",
    "plt.tick_params(axis='y', labelsize=6, direction='in', length=1)\n",
    "\n",
    "xticks = np.arange(0, 81, step=40)\n",
    "plt.xticks(xticks)  # Set the x-ticks\n",
    "plt.yticks(xticks)  # Set the y-ticks\n",
    "plt.xlim(0, 80)\n",
    "plt.ylim(0, 80)\n",
    "\n",
    "#plt.xlabel('Value by measurements', fontsize=6)\n",
    "#plt.ylabel('Value by inferred models', fontsize=6)\n",
    "#plt.title('Stationary mean of mRNA', fontsize=6)\n",
    "\n",
    "plt.subplots_adjust(bottom=0.2, left= 0.2)\n",
    "fig.savefig(\"figure.eps\", format='eps')"
   ],
   "metadata": {
    "collapsed": false
   }
  },
  {
   "cell_type": "code",
   "execution_count": 18,
   "outputs": [
    {
     "data": {
      "text/plain": "<Figure size 98.4252x98.4252 with 1 Axes>",
      "image/png": "[encoded data removed]"
     },
     "metadata": {},
     "output_type": "display_data"
    }
   ],
   "source": [
    "# plot the stationary variance of real cells and inferred model\n",
    "\n",
    "import matplotlib.ticker as ticker\n",
    "\n",
    "# fig = plt.figure(figsize=(cm_to_inch(3), cm_to_inch(3)))\n",
    "fig, ax = plt.subplots(figsize=(cm_to_inch(2.5), cm_to_inch(2.5)))\n",
    "\n",
    "\n",
    "plt.plot(stationary_variance_real_cell_list, stationary_variance_inferred_mode_list, 'o', markersize=1, color='black')\n",
    "plt.plot([0, 3000], [0, 3000], '--', color='red', linewidth=1)\n",
    "\n",
    "plt.tick_params(axis='x', labelsize=6, direction='in', length=1)\n",
    "plt.tick_params(axis='y', labelsize=6, direction='in', length=1)\n",
    "\n",
    "ax.yaxis.set_major_formatter(ticker.FuncFormatter(lambda x, pos: f'{x * 1e-2:.0f}'))  # Scale y-ticks by 1e-2\n",
    "ax.text(0, 1.05, r'$\\times10^2$', transform=ax.transAxes, fontsize=6)\n",
    "\n",
    "xticks = np.arange(0, 2200, step=1000)\n",
    "plt.xticks(xticks)  # Set the x-ticks\n",
    "plt.yticks(xticks)  # Set the y-ticks\n",
    "plt.xlim(0, 2400)\n",
    "plt.ylim(0, 2400)\n",
    "\n",
    "#plt.xlabel('Value by measurements', fontsize=6)\n",
    "#plt.ylabel('Value by inferred models', fontsize=6)\n",
    "#plt.title('Stationary mean of mRNA', fontsize=6)\n",
    "\n",
    "plt.subplots_adjust(bottom=0.2, left= 0.2)\n",
    "fig.savefig(\"figure.eps\", format='eps')"
   ],
   "metadata": {
    "collapsed": false
   }
  },
  {
   "cell_type": "code",
   "execution_count": 17,
   "outputs": [
    {
     "name": "stdout",
     "output_type": "stream",
     "text": [
      "intrinsic_noise_real_cell 837.5288220487333\n",
      "extrinsic_noise_real_cell 163.59919658713764\n",
      "intrinsic_noise_inferred_model 729.3472808234346\n",
      "extrinsic_noise_inferred_model 179.8459855700079\n"
     ]
    },
    {
     "data": {
      "text/plain": "<Figure size 137.795x118.11 with 1 Axes>",
      "image/png": "[encoded data removed]"
     },
     "metadata": {},
     "output_type": "display_data"
    }
   ],
   "source": [
    "# plot the decomposition of variance at staionary distribution\n",
    "\n",
    "import matplotlib.ticker as ticker\n",
    "\n",
    "# fig = plt.figure(figsize=(cm_to_inch(4), cm_to_inch(3)))\n",
    "fig, ax = plt.subplots(figsize=(cm_to_inch(3.5), cm_to_inch(3)))\n",
    "\n",
    "intrinsic_noise_inferred_model = np.mean(stationary_variance_inferred_mode_list)\n",
    "extrinsic_noise_inferred_model = np.var(stationary_mean_inferred_mode_list)\n",
    "intrinsic_noise_real_cell = np.mean(stationary_variance_real_cell_list)\n",
    "extrinsic_noise_real_cell = np.var(stationary_mean_real_cell_list)\n",
    "\n",
    "lower_part = [intrinsic_noise_real_cell, intrinsic_noise_inferred_model]\n",
    "upper_part = [extrinsic_noise_real_cell, extrinsic_noise_inferred_model]\n",
    "\n",
    "# draw lower bars\n",
    "p1 = plt.bar([0, 1], lower_part, width=0.5, color='C0', label='Intrinsic noise')\n",
    "\n",
    "# draw upper bars\n",
    "p2 = plt.bar([0, 1], upper_part, bottom=lower_part, width=0.5, color='r', label='Extrinsic noise')\n",
    "\n",
    "plt.xticks([0, 1], ['Experiments', 'Inferred \\n models'], fontsize=6)\n",
    "plt.ylabel('mRNA Variance', fontsize=6)\n",
    "\n",
    "plt.tick_params(axis='x', labelsize=6, direction='in', length=1)\n",
    "plt.tick_params(axis='y', labelsize=6, direction='in', length=1)\n",
    "\n",
    "yticks = np.arange(0, 1600, step=500)\n",
    "ax.set_yticks(yticks)  # Set the y-ticks\n",
    "\n",
    "#plt.xlim(-0.5, 1.5)\n",
    "plt.ylim(0, 1600)\n",
    "\n",
    "ax.yaxis.set_major_formatter(ticker.FuncFormatter(lambda x, pos: f'{x * 1e-2:.0f}'))  # Scale y-ticks by 1e-2\n",
    "ax.text(0, 1.05, r'$\\times10^2$', transform=ax.transAxes, fontsize=6)\n",
    "\n",
    "\n",
    "\n",
    "plt.legend(loc='upper right', fontsize=5.5, frameon=False)\n",
    "\n",
    "plt.subplots_adjust(bottom=0.2, left= 0.24)\n",
    "fig.savefig(\"figure.eps\", format='eps')\n",
    "\n",
    "print('intrinsic_noise_real_cell', intrinsic_noise_real_cell)\n",
    "print('extrinsic_noise_real_cell', extrinsic_noise_real_cell)\n",
    "print('intrinsic_noise_inferred_model', intrinsic_noise_inferred_model)\n",
    "print('extrinsic_noise_inferred_model', extrinsic_noise_inferred_model)\n"
   ],
   "metadata": {
    "collapsed": false
   }
  },
  {
   "cell_type": "code",
   "execution_count": 19,
   "outputs": [
    {
     "data": {
      "text/plain": "<Figure size 275.591x118.11 with 1 Axes>",
      "image/png": "[encoded data removed]"
     },
     "metadata": {},
     "output_type": "display_data"
    }
   ],
   "source": [
    "# noise decomposition over time\n",
    "intrinsic_noise_inferred_model = np.mean(variance_inferred_model_over_time_list, axis=0)\n",
    "extrinsic_noise_inferred_model = np.var(mean_inferred_model_over_time_list, axis=0)\n",
    "Variance_experimental = np.var(mRNA_real_cell_over_time_list, axis=0)\n",
    "\n",
    "# error in estimating the experimental noise\n",
    "from sklearn.utils import resample\n",
    "data_whole = np.array(mRNA_real_cell_over_time_list)\n",
    "error_bar = []\n",
    "for t in range(data_whole.shape[1]):\n",
    "    data = data_whole[:, t]\n",
    "    n_iterations = 1000\n",
    "    bootstrap_variances = np.zeros(n_iterations)\n",
    "    for i in range(n_iterations):\n",
    "        bootstrap_sample = resample(data)\n",
    "        bootstrap_variances[i] = np.var(bootstrap_sample)\n",
    "\n",
    "    error_bar.append( np.std(bootstrap_variances) )\n",
    "error_bar = np.array(error_bar)\n",
    "\n",
    "\n",
    "index = [1,2,3,4,6, 7]\n",
    "x = np.arange(len(index))\n",
    "\n",
    "fig = plt.figure(figsize=(cm_to_inch(7), cm_to_inch(3)))\n",
    "\n",
    "plt.bar(x - 0.2, Variance_experimental[index], width=0.3, color='grey', label='Total noise (experiment)', yerr=error_bar[index])\n",
    "plt.bar(x + 0.2, intrinsic_noise_inferred_model[index], width=0.3, color='C0', label='Intrinsic noise (inferred model)')\n",
    "plt.bar(x + 0.2, extrinsic_noise_inferred_model[index], bottom=intrinsic_noise_inferred_model[index], width=0.3, color='r', label='Extrinsic noise (inferred model)')\n",
    "\n",
    "plt.ylim(0, 2000)\n",
    "\n",
    "\n",
    "xticks_values = ['t='+ str(time[i]) for i in index]\n",
    "plt.xticks(x, xticks_values, fontsize=6)\n",
    "yticks = np.arange(0, 2100, step=1000)\n",
    "plt.ylim(0, 2900)\n",
    "plt.yticks(yticks)  #\n",
    "plt.tick_params(axis='x', labelsize=6, direction='in', length=1)\n",
    "plt.tick_params(axis='y', labelsize=6, direction='in', length=1)\n",
    "\n",
    "plt.ylabel('mRNA Variance', fontsize=6)\n",
    "\n",
    "\n",
    "plt.legend(loc='upper right', fontsize=5.5, frameon=False, ncol=1)\n",
    "\n",
    "\n",
    "plt.subplots_adjust(bottom=0.2, left= 0.24)\n",
    "fig.savefig(\"figure.eps\", format='eps')\n"
   ],
   "metadata": {
    "collapsed": false
   }
  }
 ],
 "metadata": {
  "kernelspec": {
   "display_name": "Python 3",
   "language": "python",
   "name": "python3"
  },
  "language_info": {
   "codemirror_mode": {
    "name": "ipython",
    "version": 2
   },
   "file_extension": ".py",
   "mimetype": "text/x-python",
   "name": "python",
   "nbconvert_exporter": "python",
   "pygments_lexer": "ipython2",
   "version": "2.7.6"
  }
 },
 "nbformat": 4,
 "nbformat_minor": 0
}
