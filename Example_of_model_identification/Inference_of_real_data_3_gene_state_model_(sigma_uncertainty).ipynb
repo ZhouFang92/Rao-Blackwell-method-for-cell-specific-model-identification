{
 "cells": [
  {
   "cell_type": "code",
   "execution_count": 1,
   "metadata": {
    "collapsed": true
   },
   "outputs": [],
   "source": [
    "import bisect\n",
    "# go to the parent folder\n",
    "import os\n",
    "\n",
    "import matplotlib.pyplot as plt\n",
    "\n",
    "os.chdir(\"..\")\n",
    "\n",
    "import numpy as np\n",
    "import pandas as pd\n",
    "import time\n",
    "\n",
    "# Our package\n",
    "from RB_method_for_model_identification.RBForModelIdentification import RBForModelIdentification"
   ]
  },
  {
   "cell_type": "markdown",
   "source": [
    "# Inference of real data"
   ],
   "metadata": {
    "collapsed": false
   }
  },
  {
   "cell_type": "markdown",
   "source": [
    "In this example, we consider a data set from real experiments. Potentially, the circuit can be described by a three gene-state model as follows:\n",
    "\\begin{align}\n",
    "&\\text{Gene Activation:} && G \\to G^* && \\text{Propensity:} ~ k_{1} X_G \\\\\n",
    "&\\text{Gene Deactivation:} && G^* \\to G && \\text{Propensity:} ~ k_{2} X_{G^*} \\\\\n",
    "&\\text{Gene Further activation:} && G^* \\to G^{**} && \\text{Propensity:} ~ k_3 X_{G^*} \\\\\n",
    "&\\text{Gene Deactivation:} && G^{**} \\to G^* && \\text{Propensity:} ~ k_4 X_{G^{**}} \\\\\n",
    "&\\text{mRNA Transcription:} && \\emptyset \\to \\text{mRNA} && \\text{Propensity:} ~ k_{p1} X_{G^*} + (k_{p1}+k_{p2}) X_{G^{**}}  \\\\\n",
    "&\\text{mRNA Degration:} &&\\text{mRNA} \\to \\emptyset && \\text{Propensity:} ~ k_d X_\\text{mRNA} \\\\\n",
    "\\end{align}\n",
    "the gene can transition between three distinct states, with mRNA being produced when the gene is in either of the two activated states. Additionally, the rate of mRNA degradation is directly proportional to its copy number. Also, the mRNA exhibits fluorescence, allowing for the use of a microscope to record its dynamics very 2 minutes."
   ],
   "metadata": {
    "collapsed": false
   }
  },
  {
   "cell_type": "code",
   "execution_count": 2,
   "outputs": [
    {
     "name": "stdout",
     "output_type": "stream",
     "text": [
      "leader species:  ['mRNA', 'G1', 'G2']\n",
      "follower species:  ['G0']\n",
      "follower parameters:  ['kp2', 'k2', 'k1', 'k4', 'sigma', 'kp1', 'k3']\n"
     ]
    },
    {
     "data": {
      "text/plain": "<Figure size 800x800 with 1 Axes>",
      "image/png": "[encoded data removed]"
     },
     "metadata": {},
     "output_type": "display_data"
    },
    {
     "name": "stdout",
     "output_type": "stream",
     "text": [
      "Number of subsystems: 5\n",
      "-----------------------------------------------------\n",
      "      xi_1  xi_2  xi_3  xi_4  xi_5  xi_6\n",
      "mRNA    -1     0     0     0     0     1\n",
      "G1       0    -1    -1     1     1     0\n",
      "G2       0     0     1    -1     0     0\n",
      "-----------------------------------------------------\n",
      "Subsystem:  1\n",
      "Involved parameters and species: ['kp2', 'kp1']\n",
      "Unobservable reactions involved: []\n",
      "Observable reactions involved: ['mRNA prod.']\n",
      "Xi involved: ['xi_6']\n",
      "Size of state space of this subsystem: 121\n",
      "-----------------------------------------------------\n",
      "Subsystem:  2\n",
      "Involved parameters and species: ['k2', 'k1', 'G0']\n",
      "Unobservable reactions involved: []\n",
      "Observable reactions involved: ['G Deg. 1', 'G Act. 1']\n",
      "Xi involved: ['xi_2', 'xi_5']\n",
      "Size of state space of this subsystem: 882\n",
      "-----------------------------------------------------\n",
      "Subsystem:  3\n",
      "Involved parameters and species: ['k4']\n",
      "Unobservable reactions involved: []\n",
      "Observable reactions involved: ['G Deg. 2']\n",
      "Xi involved: ['xi_4']\n",
      "Size of state space of this subsystem: 21\n",
      "-----------------------------------------------------\n",
      "Subsystem:  4\n",
      "Involved parameters and species: ['sigma']\n",
      "Unobservable reactions involved: []\n",
      "Observable reactions involved: []\n",
      "Xi involved: []\n",
      "Size of state space of this subsystem: 10\n",
      "-----------------------------------------------------\n",
      "Subsystem:  5\n",
      "Involved parameters and species: ['k3']\n",
      "Unobservable reactions involved: []\n",
      "Observable reactions involved: ['G Act. 2']\n",
      "Xi involved: ['xi_3']\n",
      "Size of state space of this subsystem: 21\n",
      "-----------------------------------------------------\n"
     ]
    }
   ],
   "source": [
    "# The network structure\n",
    "species_names = ['G0', 'G1', 'G2', 'mRNA']\n",
    "stoichiometric_matrix = [[-1, 1, 0, 0, 0, 0],\n",
    "                         [1, -1, -1, 1, 0, 0],\n",
    "                         [0, 0, 1,-1, 0, 0],\n",
    "                         [0, 0, 0, 0, 1,-1]]\n",
    "parameters_names = ['k1','k2', 'k3', 'k4', 'kp1', 'kp2', 'sigma']\n",
    "reaction_names = ['G Act. 1', 'G Deg. 1', 'G Act. 2', 'G Deg. 2', 'mRNA prod.', 'mRNA deg.']\n",
    "propensities = [\n",
    "    lambda k1, G0: k1*G0,\n",
    "    lambda k2, G1: k2*G1,\n",
    "    lambda k3, G1: k3*G1,\n",
    "    lambda k4, G2: k4*G2,\n",
    "    lambda kp1, kp2, G1, G2: kp1*G1 + (kp1+kp2)*G2,\n",
    "    lambda mRNA: mRNA\n",
    "]\n",
    "\n",
    "range_of_species = \\\n",
    "    pd.DataFrame([[0, 1], [0, 1], [0, 1], [0, 150] ], index=species_names, columns=['min', 'max'])\n",
    "range_of_parameters= \\\n",
    "    pd.DataFrame([[0, 1], [0, 1], [0, 1], [0, 2], [20, 40], [40, 80], [0.2, 2]],index=parameters_names,columns=['min', 'max'])\n",
    "discretization_size_parameters = \\\n",
    "    pd.DataFrame([21, 21, 21, 21, 11, 11, 10], index=parameters_names) #index=parameters_names\n",
    "\n",
    "# The observation related information\n",
    "# h_function = [\n",
    "#     lambda Protein: Protein\n",
    "# ]\n",
    "h_function = [\n",
    "    lambda mRNA: np.where(mRNA > 7, mRNA, 0)\n",
    "]\n",
    "observation_noise_intensity = [\n",
    "    lambda sigma: sigma\n",
    "]\n",
    "\n",
    "#observation_noise_intensity = {'sigma1': 0.1}\n",
    "\n",
    "maximum_size_of_each_follower_subsystem = 30000 #800 # 1000\n",
    "\n",
    "\n",
    "MI = RBForModelIdentification(\n",
    "    species_names=species_names,\n",
    "    stoichiometric_matrix=stoichiometric_matrix,\n",
    "    parameters_names=parameters_names,\n",
    "    reaction_names=reaction_names,\n",
    "    propensities=propensities,\n",
    "    range_of_species=range_of_species,\n",
    "    range_of_parameters=range_of_parameters,\n",
    "    observation_noise_intensity=observation_noise_intensity,\n",
    "    discretization_size_parameters=discretization_size_parameters,\n",
    "    h_function=h_function,\n",
    "    maximum_size_of_each_follower_subsystem=maximum_size_of_each_follower_subsystem)\n",
    "\n",
    "print('leader species: ', MI.leader_species_time_course_data)\n",
    "print('follower species: ', MI.get_follower_species_time_course_data())\n",
    "print('follower parameters: ', MI.get_follower_parameters_time_course_data())\n",
    "MI.leader_follower_decomposition_result_time_course_data.plot_decomposition()"
   ],
   "metadata": {
    "collapsed": false
   }
  },
  {
   "cell_type": "markdown",
   "source": [
    "## Load the result"
   ],
   "metadata": {
    "collapsed": false
   }
  },
  {
   "cell_type": "code",
   "execution_count": 3,
   "outputs": [],
   "source": [
    "import pickle\n",
    "\n",
    "# Load the objects from the pickle file\n",
    "with open(f\"Example_of_model_identification/results_in_paper/real_data_cell_index_78_particle_number_3000_sigma_uncertainty.pkl\", 'rb') as f:\n",
    "    data = pickle.load(f)\n",
    "\n",
    "\n",
    "# Create a new object from the dictionary\n",
    "Marginal_distributions_over_time = data['margin_distributions_over_time']\n",
    "time_result = data['time_result']\n",
    "mean_result = data['mean_result']\n",
    "std_result = data['std_result']\n",
    "Y_list = data['Y_list']\n"
   ],
   "metadata": {
    "collapsed": false
   }
  },
  {
   "cell_type": "code",
   "execution_count": 4,
   "outputs": [
    {
     "data": {
      "text/plain": "<Figure size 275.591x118.11 with 1 Axes>",
      "image/png": "[encoded data removed]"
     },
     "metadata": {},
     "output_type": "display_data"
    }
   ],
   "source": [
    "# plot the observation\n",
    "def cm_to_inch(value):\n",
    "    return value/2.54\n",
    "\n",
    "tf =240\n",
    "dt = 2\n",
    "Observation_times_list = np.arange(dt, tf+dt, dt)\n",
    "\n",
    "\n",
    "fig = plt.figure(figsize=(cm_to_inch(7), cm_to_inch(3)))\n",
    "#plt.step(time_list, np.array(state_list)[:,3],where='post',linewidth=0.75, label='mRNA')\n",
    "#plt.plot(Observation_times_list, Y_list, 'o', markersize=0.75, label='Measurements')\n",
    "plt.step(Observation_times_list, Y_list,where='post',linewidth=0.75, label='mRNA')\n",
    "\n",
    "plt.xlim((0, 240))\n",
    "plt.ylim((0, 120))\n",
    "xticks = np.arange(0, 241, step=60)\n",
    "plt.xticks(xticks)  # Set the x-ticks\n",
    "plt.xlabel('Time (min)', fontsize=6)\n",
    "plt.ylabel('mRNA Measurements', fontsize=6)\n",
    "plt.tick_params(axis='x', labelsize=6, direction='in', length=1)\n",
    "\n",
    "yticks = np.arange(0, 121, step=30)\n",
    "plt.yticks(yticks)\n",
    "plt.tick_params(axis='y', labelsize=6, direction='in', length=1)\n",
    "\n",
    "#plt.legend(loc='upper right', fontsize=6)\n",
    "\n",
    "plt.subplots_adjust(bottom=0.3)\n",
    "\n",
    "#plt.tight_layout()  # This will ensure everything fits in the figure area\n",
    "\n",
    "# Save the figure as an EPS file\n",
    "fig.savefig(\"figure.eps\", format='eps')"
   ],
   "metadata": {
    "collapsed": false
   }
  },
  {
   "cell_type": "code",
   "execution_count": 5,
   "outputs": [
    {
     "name": "stdout",
     "output_type": "stream",
     "text": [
      "mean of the mRNA measurements: 25.959617520037067, std of the mRNA measurements: 23.65400840160905\n"
     ]
    }
   ],
   "source": [
    "mean = np.mean(Y_list)\n",
    "std = np.std(Y_list)\n",
    "print(f\"mean of the mRNA measurements: {mean}, std of the mRNA measurements: {std}\")"
   ],
   "metadata": {
    "collapsed": false
   }
  },
  {
   "cell_type": "code",
   "execution_count": 6,
   "outputs": [
    {
     "data": {
      "text/plain": "<Figure size 118.11x118.11 with 1 Axes>",
      "image/png": "[encoded data removed]"
     },
     "metadata": {},
     "output_type": "display_data"
    }
   ],
   "source": [
    "# plot marginal distributions\n",
    "\n",
    "parameter_species_names = MI.parameters_names + MI.species_names\n",
    "marginal_distributions = sorted(Marginal_distributions_over_time[-1], key=lambda x: parameter_species_names.index(next(iter(x.parameter_species_ordering))))\n",
    "\n",
    "\n",
    "# something to change for different plot\n",
    "marginal_distribution = marginal_distributions[5]\n",
    "name_to_show = '$k_{p_2}$'\n",
    "\n",
    "\n",
    "distribution = marginal_distribution.distribution_list[-1].copy()\n",
    "states = marginal_distribution.states.copy()\n",
    "name = list(marginal_distribution.parameter_species_ordering.keys())[0]\n",
    "\n",
    "\n",
    "fig = plt.figure(figsize=(cm_to_inch(3), cm_to_inch(3)))\n",
    "\n",
    "plt.bar(states.reshape(-1), distribution.reshape(-1), width=states[1] - states[0], label='Estimated distribution')\n",
    "# plt.axvline(x=parameter_values[name], color='r', linestyle='--', label='real value')\n",
    "\n",
    "plt.xlabel(name_to_show +' (per minute)', fontsize=6)\n",
    "plt.ylabel('Probability', fontsize=6)\n",
    "\n",
    "plt.tick_params(axis='x', labelsize=6, direction='in', length=1)\n",
    "plt.tick_params(axis='y', labelsize=6, direction='in', length=1)\n",
    "\n",
    "if name in ['k1', 'k3']:\n",
    "    xticks = np.arange(0, 1.1, step=0.5)\n",
    "    plt.xlim((0-0.025, 1+0.025))\n",
    "    yticks = np.arange(0, 0.21, step=0.1)\n",
    "    #yticks = np.arange(0, 0.91, step=0.3)\n",
    "elif name in ['k2']:\n",
    "    xticks = np.arange(0, 1.1, step=0.5)\n",
    "    plt.xlim((0-0.025, 1+0.025))\n",
    "    yticks = np.arange(0, 0.31, step=0.1)\n",
    "elif name in ['k4']:\n",
    "    xticks = np.arange(0, 2.1, step=1)\n",
    "    plt.xlim((0-0.1, 1+0.1))\n",
    "    yticks = np.arange(0, 0.11, step=0.1)\n",
    "elif name in ['kp1']:\n",
    "    xticks = np.arange(20, 41, step=10)\n",
    "    plt.xlim((20, 40))\n",
    "    #yticks = np.arange(0, 0.61, step=0.2)\n",
    "    yticks = np.arange(0, 0.61, step=0.3)\n",
    "elif name in ['kp2']:\n",
    "    xticks = np.arange(40, 81, step=20)\n",
    "    plt.xlim((40, 80))\n",
    "    yticks = np.arange(0, 0.31, step=0.1)\n",
    "elif name in ['sigma']:\n",
    "    xticks = np.arange(0, 2.1, step=1)\n",
    "    plt.xlim((0, 2))\n",
    "    yticks = np.arange(0, 1.1, step=0.5)\n",
    "    plt.xlabel('Noise Intensity ' + name_to_show, fontsize=6)\n",
    "\n",
    "\n",
    "plt.xticks(xticks)  # Set the x-ticks\n",
    "plt.yticks(yticks)  # Set the x-ticks\n",
    "\n",
    "\n",
    "\n",
    "\n",
    "# plt.legend(loc='upper left', fontsize=6)\n",
    "\n",
    "\n",
    "\n",
    "plt.subplots_adjust(bottom=0.2, left= 0.2)\n",
    "\n",
    "\n",
    "\n",
    "fig.savefig(\"figure.eps\", format='eps')"
   ],
   "metadata": {
    "collapsed": false
   }
  },
  {
   "cell_type": "code",
   "execution_count": 7,
   "outputs": [
    {
     "data": {
      "text/plain": "<Figure size 118.11x118.11 with 1 Axes>",
      "image/png": "[encoded data removed]"
     },
     "metadata": {},
     "output_type": "display_data"
    }
   ],
   "source": [
    "# the evolution of the sigma estimates\n",
    "\n",
    "fig = plt.figure(figsize=(cm_to_inch(3), cm_to_inch(3)))\n",
    "\n",
    "\n",
    "marginal_distributions = sorted(Marginal_distributions_over_time[-1], key=lambda x: parameter_species_names.index(next(iter(x.parameter_species_ordering))))\n",
    "\n",
    "# something to change for different plot\n",
    "marginal_distribution = marginal_distributions[6]\n",
    "name_to_show = '$\\sigma$'\n",
    "\n",
    "time_result = np.insert(time_result, 0, 0)\n",
    "mean_result['sigma'].insert(0, np.array([1.1]))\n",
    "std_result['sigma'].insert(0, np.array([0.58]))\n",
    "\n",
    "mean_out = np.array(mean_result['sigma']).reshape(-1)\n",
    "std_out = np.array(std_result['sigma']).reshape(-1)\n",
    "\n",
    "\n",
    "\n",
    "plt.fill_between(time_result, mean_out-std_out, mean_out+std_out,alpha=0.3)\n",
    "plt.plot(time_result, mean_out)\n",
    "\n",
    "\n",
    "plt.xticks([0, 240])\n",
    "plt.yticks([0, 2.1])\n",
    "\n",
    "xticks = np.arange(0, 241, step=120)\n",
    "yticks = np.arange(0, 2.1, step=1)\n",
    "\n",
    "\n",
    "plt.xlabel('Time (min)', fontsize=6)\n",
    "plt.ylabel(name_to_show + \"   estimate\", fontsize=6)\n",
    "plt.tick_params(axis='x', labelsize=6, direction='in', length=1)\n",
    "plt.tick_params(axis='y', labelsize=6, direction='in', length=1)\n",
    "\n",
    "plt.xticks(xticks)  # Set the x-ticks\n",
    "plt.yticks(yticks)  # Set the y-ticks\n",
    "\n",
    "plt.subplots_adjust(bottom=0.2, left= 0.2)\n",
    "\n",
    "fig.savefig(\"figure.pdf\", format='pdf')"
   ],
   "metadata": {
    "collapsed": false
   }
  },
  {
   "cell_type": "code",
   "execution_count": 9,
   "outputs": [
    {
     "name": "stdout",
     "output_type": "stream",
     "text": [
      "MAP parameter values: {'k1': 0.5, 'k2': 0.35000000000000003, 'k4': 1.0, 'k3': 0.30000000000000004, 'kp1': 26.0, 'kp2': 68.0, 'sigma': 0.4}\n"
     ]
    }
   ],
   "source": [
    "# compute the stationary distribution of the infreed model\n",
    "\n",
    "from CRN_Simulation.MarginalDistribution import MarginalDistribution\n",
    "Initial_marginal_distributions = MI.generate_uniform_marginal_distributions_via_speceis_range(MI.range_of_species)\n",
    "delta_distribution = np.zeros((len(Initial_marginal_distributions['mRNA'].states), 1))\n",
    "delta_distribution[0] = 1\n",
    "Initial_marginal_distributions['mRNA'].adjust_distribution(delta_distribution)\n",
    "# initial distribution of G0, G1, G2\n",
    "Initial_marginal_distributions['G0'].adjust_distribution(np.array([[0], [1]]))\n",
    "Initial_marginal_distributions['G1'].adjust_distribution(np.array([[1], [0]]))\n",
    "Initial_marginal_distributions['G2'].adjust_distribution(np.array([[1], [0]]))\n",
    "\n",
    "MAP_parameter_dict = {}\n",
    "for i in range(len(Marginal_distributions_over_time[-1])):\n",
    "    element = list(Marginal_distributions_over_time[-1][i].parameter_species_ordering.keys())[0]\n",
    "    if element in MI.parameters_names:\n",
    "        map_index = np.argmax(Marginal_distributions_over_time[-1][i].distribution_list[-1])\n",
    "        map_state = Marginal_distributions_over_time[-1][i].states[map_index, 0]\n",
    "        MAP_parameter_dict.update({element: map_state})\n",
    "\n",
    "\n",
    "print('MAP parameter values:', MAP_parameter_dict)\n",
    "\n",
    "\n",
    "Tf = 100\n",
    "distribution_inferred_model = MI.FSP(Initial_marginal_distributions, MI.range_of_species, MAP_parameter_dict, 0, Tf, normalization=True)\n",
    "marginal_distributions_over_time = distribution_inferred_model.extract_marginal_distributions_over_time()\n",
    "mRNA_distribution_inferred_model = marginal_distributions_over_time[-1]['mRNA'].distribution\n",
    "mRNA_distribution_inferred_model = mRNA_distribution_inferred_model.flatten()\n",
    "\n",
    "\n",
    "dx = 10\n",
    "\n",
    "bins = np.arange(0, 150, dx)\n",
    "data_distribution= [0]*len(bins)\n",
    "for i in range(len(bins)-1):\n",
    "    for j in range(5, len(Y_list)):\n",
    "        if bins[i] <= Y_list[j] < bins[i+1]:\n",
    "            data_distribution[i] += 1\n",
    "data_distribution = np.array(data_distribution)/sum(data_distribution)\n",
    "\n",
    "\n",
    "new_distribution= [0]*len(bins)\n",
    "\n",
    "for i in range(len(bins)-1):\n",
    "    for j in range(len(mRNA_distribution_inferred_model)):\n",
    "        if bins[i] <= j < bins[i+1]:\n",
    "            new_distribution[i] += mRNA_distribution_inferred_model[j]\n",
    "\n",
    "x = [x+dx/2 for x in bins]\n",
    "\n",
    "weights = np.ones_like(Y_list) / len(Y_list)\n",
    "# plt.hist(np.array(Y_list[5:]).reshape(-1), weights=weights, bins=bins, edgecolor='black', alpha=0.75, label='data')\n",
    "x = [x+dx/2 for x in bins]\n"
   ],
   "metadata": {
    "collapsed": false
   }
  },
  {
   "cell_type": "code",
   "execution_count": 10,
   "outputs": [
    {
     "data": {
      "text/plain": "<Figure size 177.165x118.11 with 1 Axes>",
      "image/png": "[encoded data removed]"
     },
     "metadata": {},
     "output_type": "display_data"
    }
   ],
   "source": [
    "cell_index = 78\n",
    "\n",
    "fig = plt.figure(figsize=(cm_to_inch(4.5), cm_to_inch(3)))\n",
    "#fig = plt.figure(figsize=(cm_to_inch(5), cm_to_inch(3)))\n",
    "plt.bar(x, data_distribution, width=dx, alpha=0.5, label='Experiment')\n",
    "\n",
    "plt.bar(x, new_distribution, color='red', width=dx, alpha=0.5, label='Inferred model')\n",
    "# plt.plot(x, new_distribution, color='red', label='inferred')\n",
    "\n",
    "plt.legend(loc='upper right', fontsize=6)\n",
    "\n",
    "plt.tick_params(axis='x', labelsize=6, direction='in', length=1)\n",
    "plt.tick_params(axis='y', labelsize=6, direction='in', length=1)\n",
    "\n",
    "plt.xlabel( 'mRNA counts', fontsize=6)\n",
    "# plt.ylabel('Probability', fontsize=6)\n",
    "plt.title(f'Stationary distribution (cell #{cell_index})', fontsize=7)\n",
    "#plt.title(f'Stationary distribution', fontsize=7)\n",
    "\n",
    "xticks = np.arange(0, 121, step=30)\n",
    "plt.xticks(xticks)  # Set the x-ticks\n",
    "plt.xlim((0, 120))\n",
    "yticks = np.arange(0, 0.31, step=0.1)\n",
    "plt.yticks(yticks)  # Set the x-ticks\n",
    "\n",
    "plt.subplots_adjust(bottom=0.22)\n",
    "\n",
    "fig.savefig(\"figure.pdf\", format='pdf')"
   ],
   "metadata": {
    "collapsed": false
   }
  },
  {
   "cell_type": "code",
   "execution_count": 11,
   "outputs": [
    {
     "name": "stdout",
     "output_type": "stream",
     "text": [
      "KL-divergence: 0.020980202842728956\n",
      "L1 norm: 0.14642414912317425\n"
     ]
    }
   ],
   "source": [
    "from scipy.stats import entropy\n",
    "\n",
    "kl_divergence = entropy(data_distribution, new_distribution)\n",
    "print('KL-divergence:', kl_divergence)\n",
    "\n",
    "L1_norm = sum(abs(data_distribution - new_distribution))\n",
    "print('L1 norm:', L1_norm)"
   ],
   "metadata": {
    "collapsed": false
   }
  },
  {
   "cell_type": "code",
   "execution_count": null,
   "outputs": [],
   "source": [],
   "metadata": {
    "collapsed": false
   }
  }
 ],
 "metadata": {
  "kernelspec": {
   "display_name": "Python 3",
   "language": "python",
   "name": "python3"
  },
  "language_info": {
   "codemirror_mode": {
    "name": "ipython",
    "version": 2
   },
   "file_extension": ".py",
   "mimetype": "text/x-python",
   "name": "python",
   "nbconvert_exporter": "python",
   "pygments_lexer": "ipython2",
   "version": "2.7.6"
  }
 },
 "nbformat": 4,
 "nbformat_minor": 0
}
