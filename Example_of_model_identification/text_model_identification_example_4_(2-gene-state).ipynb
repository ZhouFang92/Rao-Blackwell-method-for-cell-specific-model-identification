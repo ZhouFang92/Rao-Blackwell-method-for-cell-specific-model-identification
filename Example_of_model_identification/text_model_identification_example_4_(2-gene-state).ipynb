{
 "cells": [
  {
   "cell_type": "code",
   "execution_count": 1,
   "metadata": {
    "collapsed": true
   },
   "outputs": [],
   "source": [
    "import bisect\n",
    "# go to the parent folder\n",
    "import os\n",
    "\n",
    "import matplotlib.pyplot as plt\n",
    "\n",
    "os.chdir(\"..\")\n",
    "\n",
    "import numpy as np\n",
    "import pandas as pd\n",
    "import time\n",
    "\n",
    "# Our package\n",
    "from RB_method_for_model_identification.RBForModelIdentification import RBForModelIdentification"
   ]
  },
  {
   "cell_type": "markdown",
   "source": [
    "In this example, we consider a three gene-state model as follows:\n",
    "\\begin{align}\n",
    "&\\text{Gene Activation:} && G \\to G^* && \\text{Propensity:} ~ k_{1} X_G \\\\\n",
    "&\\text{Gene Deactivation:} && G^* \\to G && \\text{Propensity:} ~ k_{2} X_{G^*} \\\\\n",
    "&\\text{Gene Further activation:} && G^* \\to G^{**} && \\text{Propensity:} ~ k_3 X_{G^*} \\\\\n",
    "&\\text{Gene Deactivation:} && G^{**} \\to G^* && \\text{Propensity:} ~ k_4 X_{G^{**}} \\\\\n",
    "&\\text{mRNA Transcription:} && \\emptyset \\to \\text{mRNA} && \\text{Propensity:} ~ k_{p1} （X_{G^*} +X_{G^{**}}) + k_{p2} X_{G^{**}}  \\\\\n",
    "&\\text{mRNA Degration:} &&\\text{mRNA} \\to \\emptyset && \\text{Propensity:} ~ k_d X_\\text{mRNA} \\\\\n",
    "\\end{align}\n",
    "the gene can transition between three distinct states, with mRNA being produced when the gene is in either of the two activated states. Additionally, the rate of mRNA degradation is directly proportional to its copy number. Also, we assume that the mRNA exhibits fluorescence, allowing for the use of a microscope to record its dynamics very 2 minutes. Here, we set $k_d = 1$\n",
    "\n",
    "The system in this example is the same as the previous one. However, the numbers are choice of parameters are diffent.\n",
    "\n",
    "Here, we try to check if our algorithm can identify the model correctly when the system has only 2-gene states."
   ],
   "metadata": {
    "collapsed": false
   }
  },
  {
   "cell_type": "code",
   "execution_count": 2,
   "outputs": [
    {
     "name": "stdout",
     "output_type": "stream",
     "text": [
      "leader species:  ['G2', 'G1']\n",
      "follower species:  ['mRNA', 'G0']\n",
      "follower parameters:  ['k3', 'k1', 'kp1', 'kp2', 'k4', 'k2']\n"
     ]
    },
    {
     "data": {
      "text/plain": "<Figure size 800x800 with 1 Axes>",
      "image/png": "[encoded data removed]"
     },
     "metadata": {},
     "output_type": "display_data"
    },
    {
     "name": "stdout",
     "output_type": "stream",
     "text": [
      "Number of subsystems: 4\n",
      "-----------------------------------------------------\n",
      "    xi_1  xi_2  xi_3  xi_4\n",
      "G2    -1     0     0     1\n",
      "G1     1    -1     1    -1\n",
      "-----------------------------------------------------\n",
      "Subsystem:  1\n",
      "Involved parameters and species: ['k3']\n",
      "Unobservable reactions involved: []\n",
      "Observable reactions involved: ['G Act. 2']\n",
      "Xi involved: ['xi_4']\n",
      "Size of state space of this subsystem: 20\n",
      "-----------------------------------------------------\n",
      "Subsystem:  2\n",
      "Involved parameters and species: ['k1', 'k2', 'G0']\n",
      "Unobservable reactions involved: []\n",
      "Observable reactions involved: ['G Act. 1', 'G Deg. 1']\n",
      "Xi involved: ['xi_3', 'xi_2']\n",
      "Size of state space of this subsystem: 800\n",
      "-----------------------------------------------------\n",
      "Subsystem:  3\n",
      "Involved parameters and species: ['kp2', 'kp1', 'mRNA']\n",
      "Unobservable reactions involved: ['mRNA prod.', 'mRNA deg.']\n",
      "Observable reactions involved: []\n",
      "Xi involved: []\n",
      "Size of state space of this subsystem: 2100\n",
      "-----------------------------------------------------\n",
      "Subsystem:  4\n",
      "Involved parameters and species: ['k4']\n",
      "Unobservable reactions involved: []\n",
      "Observable reactions involved: ['G Deg. 2']\n",
      "Xi involved: ['xi_1']\n",
      "Size of state space of this subsystem: 20\n",
      "-----------------------------------------------------\n"
     ]
    }
   ],
   "source": [
    "# The network structure\n",
    "species_names = ['G0', 'G1', 'G2', 'mRNA']\n",
    "stoichiometric_matrix = [[-1, 1, 0, 0, 0, 0],\n",
    "                         [1, -1, -1, 1, 0, 0],\n",
    "                         [0, 0, 1,-1, 0, 0],\n",
    "                         [0, 0, 0, 0, 1,-1]]\n",
    "parameters_names = ['k1','k2', 'k3', 'k4', 'kp1', 'kp2']\n",
    "reaction_names = ['G Act. 1', 'G Deg. 1', 'G Act. 2', 'G Deg. 2', 'mRNA prod.', 'mRNA deg.']\n",
    "propensities = [\n",
    "    lambda k1, G0: k1*G0,\n",
    "    lambda k2, G1: k2*G1,\n",
    "    lambda k3, G1: k3*G1,\n",
    "    lambda k4, G2: k4*G2,\n",
    "    lambda kp1, kp2, G1, G2: kp1*(G1+G2) + kp2*G2,\n",
    "    lambda mRNA: 1*mRNA\n",
    "]\n",
    "\n",
    "range_of_species = \\\n",
    "    pd.DataFrame([[0, 1], [0, 1], [0, 1], [0, 20] ], index=species_names, columns=['min', 'max'])\n",
    "range_of_parameters= \\\n",
    "    pd.DataFrame([[0, 1], [0, 1], [0, 1], [0, 1], [1, 10], [1, 10]],index=parameters_names,columns=['min', 'max'])\n",
    "discretization_size_parameters = \\\n",
    "    pd.DataFrame([20, 20, 20, 20, 10, 10], index=parameters_names) #index=parameters_names\n",
    "\n",
    "# The observation related information\n",
    "# h_function = [\n",
    "#     lambda Protein: Protein\n",
    "# ]\n",
    "h_function = [\n",
    "    lambda mRNA: mRNA\n",
    "]\n",
    "observation_noise_intensity = [\n",
    "    lambda : 0.1\n",
    "]\n",
    "#observation_noise_intensity = {'sigma1': 0.1}\n",
    "\n",
    "maximum_size_of_each_follower_subsystem = 30000 #800 #10000 # 1000\n",
    "\n",
    "\n",
    "MI = RBForModelIdentification(\n",
    "    species_names=species_names,\n",
    "    stoichiometric_matrix=stoichiometric_matrix,\n",
    "    parameters_names=parameters_names,\n",
    "    reaction_names=reaction_names,\n",
    "    propensities=propensities,\n",
    "    range_of_species=range_of_species,\n",
    "    range_of_parameters=range_of_parameters,\n",
    "    observation_noise_intensity=observation_noise_intensity,\n",
    "    discretization_size_parameters=discretization_size_parameters,\n",
    "    h_function=h_function,\n",
    "    maximum_size_of_each_follower_subsystem=maximum_size_of_each_follower_subsystem)\n",
    "\n",
    "print('leader species: ', MI.leader_species_time_course_data)\n",
    "print('follower species: ', MI.get_follower_species_time_course_data())\n",
    "print('follower parameters: ', MI.get_follower_parameters_time_course_data())\n",
    "MI.leader_follower_decomposition_result_time_course_data.plot_decomposition()"
   ],
   "metadata": {
    "collapsed": false
   }
  },
  {
   "cell_type": "markdown",
   "source": [
    "## Plot the result"
   ],
   "metadata": {
    "collapsed": false
   }
  },
  {
   "cell_type": "code",
   "execution_count": 10,
   "outputs": [],
   "source": [
    "import pickle\n",
    "\n",
    "# Load the objects from the pickle file\n",
    "with open('Example_of_model_identification/results_in_paper/numerical_example_4_tf_480_particle_number_10000_two_gene_states.pkl', 'rb') as f:\n",
    "    data = pickle.load(f)\n",
    "\n",
    "\n",
    "# Create a new object from the dictionary\n",
    "final_particles = data['final_particles']\n",
    "Marginal_distributions_over_time = data['margin_distributions_over_time']\n",
    "time_result = data['time_result']\n",
    "mean_result = data['mean_result']\n",
    "std_result = data['std_result']\n",
    "parameter_values = data['parameter_values']\n",
    "Y_list = data['Y_list']\n",
    "time_list = data['time_list']\n",
    "state_list = data['state_list']"
   ],
   "metadata": {
    "collapsed": false
   }
  },
  {
   "cell_type": "code",
   "execution_count": 12,
   "outputs": [
    {
     "name": "stderr",
     "output_type": "stream",
     "text": [
      "/Users/zhoufang/opt/anaconda3/lib/python3.9/site-packages/scipy/linalg/_matfuncs.py:375: RuntimeWarning: overflow encountered in matmul\n",
      "  eAw = eAw @ eAw\n",
      "/Users/zhoufang/opt/anaconda3/lib/python3.9/site-packages/scipy/linalg/_matfuncs.py:375: RuntimeWarning: invalid value encountered in matmul\n",
      "  eAw = eAw @ eAw\n"
     ]
    },
    {
     "name": "stdout",
     "output_type": "stream",
     "text": [
      "Recoganize NaN or inf in computing matrix exponential while using the krylov method. Some action has taken; Don not panick!\n",
      "Recoganize NaN or inf in computing matrix exponential while using the krylov method. Some action has taken; Don not panick!\n",
      "Recoganize NaN or inf in computing matrix exponential while using the krylov method. Some action has taken; Don not panick!\n",
      "Recoganize NaN or inf in computing matrix exponential while using the krylov method. Some action has taken; Don not panick!\n",
      "Recoganize NaN or inf in computing matrix exponential while using the krylov method. Some action has taken; Don not panick!\n",
      "Recoganize NaN or inf in computing matrix exponential while using the krylov method. Some action has taken; Don not panick!\n",
      "Recoganize NaN or inf in computing matrix exponential while using the krylov method. Some action has taken; Don not panick!\n",
      "Recoganize NaN or inf in computing matrix exponential while using the krylov method. Some action has taken; Don not panick!\n",
      "Recoganize NaN or inf in computing matrix exponential while using the krylov method. Some action has taken; Don not panick!\n",
      "Recoganize NaN or inf in computing matrix exponential while using the krylov method. Some action has taken; Don not panick!\n",
      "Recoganize NaN or inf in computing matrix exponential while using the krylov method. Some action has taken; Don not panick!\n",
      "Recoganize NaN or inf in computing matrix exponential while using the krylov method. Some action has taken; Don not panick!\n",
      "Recoganize NaN or inf in computing matrix exponential while using the krylov method. Some action has taken; Don not panick!\n",
      "Recoganize NaN or inf in computing matrix exponential while using the krylov method. Some action has taken; Don not panick!\n",
      "Recoganize NaN or inf in computing matrix exponential while using the krylov method. Some action has taken; Don not panick!\n",
      "Recoganize NaN or inf in computing matrix exponential while using the krylov method. Some action has taken; Don not panick!\n",
      "Recoganize NaN or inf in computing matrix exponential while using the krylov method. Some action has taken; Don not panick!\n",
      "Recoganize NaN or inf in computing matrix exponential while using the krylov method. Some action has taken; Don not panick!\n",
      "Recoganize NaN or inf in computing matrix exponential while using the krylov method. Some action has taken; Don not panick!\n",
      "Recoganize NaN or inf in computing matrix exponential while using the krylov method. Some action has taken; Don not panick!\n"
     ]
    },
    {
     "data": {
      "text/plain": "<Figure size 314.961x157.48 with 1 Axes>",
      "image/png": "[encoded data removed]"
     },
     "metadata": {},
     "output_type": "display_data"
    }
   ],
   "source": [
    "# compute the stationary distribution of the infreed model\n",
    "\n",
    "def cm_to_inch(value):\n",
    "    return value/2.54\n",
    "\n",
    "from CRN_Simulation.MarginalDistribution import MarginalDistribution\n",
    "Initial_marginal_distributions = MI.generate_uniform_marginal_distributions_via_speceis_range(MI.range_of_species)\n",
    "delta_distribution = np.zeros((len(Initial_marginal_distributions['mRNA'].states), 1))\n",
    "delta_distribution[0] = 1\n",
    "Initial_marginal_distributions['mRNA'].adjust_distribution(delta_distribution)\n",
    "# initial distribution of G0, G1, G2\n",
    "Initial_marginal_distributions['G0'].adjust_distribution(np.array([[0], [1]]))\n",
    "Initial_marginal_distributions['G1'].adjust_distribution(np.array([[1], [0]]))\n",
    "Initial_marginal_distributions['G2'].adjust_distribution(np.array([[1], [0]]))\n",
    "\n",
    "\n",
    "\n",
    "MAP_parameter_dict = {}\n",
    "for i in range(len(Marginal_distributions_over_time[-1])):\n",
    "    element = list(Marginal_distributions_over_time[-1][i].parameter_species_ordering.keys())[0]\n",
    "    if element in MI.parameters_names:\n",
    "        map_index = np.argmax(Marginal_distributions_over_time[-1][i].distribution_list[-1])\n",
    "        map_state = Marginal_distributions_over_time[-1][i].states[map_index, 0]\n",
    "        MAP_parameter_dict.update({element: map_state})\n",
    "\n",
    "#MAP_parameter_dict = parameter_values\n",
    "\n",
    "# mean_parameter_dict = {}\n",
    "# for parameter in MI.parameters_names:\n",
    "#     mean_parameter_dict.update({parameter: mean_result[parameter][-1]})\n",
    "# initail_state = {'G0': 1, 'G1': 0, 'G2':0, 'mRNA': 0}\n",
    "\n",
    "\n",
    "Tf = 100\n",
    "distribution_inferred_model = MI.FSP(Initial_marginal_distributions, MI.range_of_species, MAP_parameter_dict, 0, Tf, normalization=True)\n",
    "Marginal_distributions = distribution_inferred_model.extract_marginal_distributions_over_time()\n",
    "mRNA_distribution_inferred_model = Marginal_distributions[-1]['mRNA'].distribution\n",
    "mRNA_distribution_inferred_model = mRNA_distribution_inferred_model.flatten()\n",
    "\n",
    "########## plot the result\n",
    "\n",
    "fig = plt.figure(figsize=(cm_to_inch(8), cm_to_inch(4)))\n",
    "\n",
    "# plot the distribution of the real data\n",
    "dx = 1\n",
    "bins = np.arange(0, 21, dx)\n",
    "data_distribution= [0]*len(bins)\n",
    "for i in range(len(bins)-1):\n",
    "    for j in range(0, len(Y_list)):\n",
    "        if bins[i]-0.5 <= Y_list[j] < bins[i]+0.5:\n",
    "            data_distribution[i] += 1\n",
    "data_distribution = np.array(data_distribution)/sum(data_distribution)\n",
    "x = [x for x in bins]\n",
    "plt.bar(x, data_distribution, edgecolor='grey', width=dx, alpha=0.5, label='Target system (approximated by ergodicity)')\n",
    "\n",
    "# plot the distribution of the inferred model\n",
    "x = list(range(mRNA_distribution_inferred_model.shape[0]))\n",
    "plt.bar(x, mRNA_distribution_inferred_model, color='red', width=dx-0.05, alpha=0.5, label='Inferred model (MAP)')\n",
    "\n",
    "plt.legend(loc='upper right', fontsize=6)\n",
    "\n",
    "plt.tick_params(axis='x', labelsize=6, direction='in', length=1)\n",
    "plt.tick_params(axis='y', labelsize=6, direction='in', length=1)\n",
    "\n",
    "plt.xlabel( 'mRNA counts', fontsize=6)\n",
    "# plt.ylabel('Probability', fontsize=6)\n",
    "plt.title('Stationary distribution', fontsize=8)\n",
    "\n",
    "#xticks = np.arange(0, 1.1, step=0.2)\n",
    "#plt.xticks(xticks)  # Set the x-ticks\n",
    "plt.xlim((0-0.75, 16+0.5))\n",
    "yticks = np.arange(0, 0.31, step=0.1)\n",
    "plt.yticks(yticks)  # Set the x-ticks\n",
    "\n",
    "plt.subplots_adjust(bottom=0.2)\n",
    "\n",
    "fig.savefig(\"figure.pdf\", format='pdf')\n",
    "\n"
   ],
   "metadata": {
    "collapsed": false
   }
  },
  {
   "cell_type": "code",
   "execution_count": 14,
   "outputs": [
    {
     "name": "stdout",
     "output_type": "stream",
     "text": [
      "KL-divergence: 0.006617325958290173\n"
     ]
    }
   ],
   "source": [
    "# compute the distance between the two distributions\n",
    "from scipy.stats import entropy\n",
    "\n",
    "kl_divergence = entropy(data_distribution, mRNA_distribution_inferred_model)\n",
    "print('KL-divergence:', kl_divergence)"
   ],
   "metadata": {
    "collapsed": false
   }
  },
  {
   "cell_type": "code",
   "execution_count": 15,
   "outputs": [
    {
     "name": "stderr",
     "output_type": "stream",
     "text": [
      "/Users/zhoufang/opt/anaconda3/lib/python3.9/site-packages/scipy/linalg/_matfuncs.py:375: RuntimeWarning: overflow encountered in matmul\n",
      "  eAw = eAw @ eAw\n",
      "/Users/zhoufang/opt/anaconda3/lib/python3.9/site-packages/scipy/linalg/_matfuncs.py:375: RuntimeWarning: invalid value encountered in matmul\n",
      "  eAw = eAw @ eAw\n"
     ]
    },
    {
     "name": "stdout",
     "output_type": "stream",
     "text": [
      "Recoganize NaN or inf in computing matrix exponential while using the krylov method. Some action has taken; Don not panick!\n",
      "Recoganize NaN or inf in computing matrix exponential while using the krylov method. Some action has taken; Don not panick!\n",
      "Recoganize NaN or inf in computing matrix exponential while using the krylov method. Some action has taken; Don not panick!\n",
      "Recoganize NaN or inf in computing matrix exponential while using the krylov method. Some action has taken; Don not panick!\n",
      "Recoganize NaN or inf in computing matrix exponential while using the krylov method. Some action has taken; Don not panick!\n",
      "Recoganize NaN or inf in computing matrix exponential while using the krylov method. Some action has taken; Don not panick!\n",
      "Recoganize NaN or inf in computing matrix exponential while using the krylov method. Some action has taken; Don not panick!\n",
      "Recoganize NaN or inf in computing matrix exponential while using the krylov method. Some action has taken; Don not panick!\n",
      "Recoganize NaN or inf in computing matrix exponential while using the krylov method. Some action has taken; Don not panick!\n",
      "Recoganize NaN or inf in computing matrix exponential while using the krylov method. Some action has taken; Don not panick!\n",
      "Recoganize NaN or inf in computing matrix exponential while using the krylov method. Some action has taken; Don not panick!\n",
      "Recoganize NaN or inf in computing matrix exponential while using the krylov method. Some action has taken; Don not panick!\n",
      "Recoganize NaN or inf in computing matrix exponential while using the krylov method. Some action has taken; Don not panick!\n",
      "Recoganize NaN or inf in computing matrix exponential while using the krylov method. Some action has taken; Don not panick!\n",
      "Recoganize NaN or inf in computing matrix exponential while using the krylov method. Some action has taken; Don not panick!\n",
      "Recoganize NaN or inf in computing matrix exponential while using the krylov method. Some action has taken; Don not panick!\n",
      "Recoganize NaN or inf in computing matrix exponential while using the krylov method. Some action has taken; Don not panick!\n",
      "Recoganize NaN or inf in computing matrix exponential while using the krylov method. Some action has taken; Don not panick!\n",
      "Recoganize NaN or inf in computing matrix exponential while using the krylov method. Some action has taken; Don not panick!\n",
      "Recoganize NaN or inf in computing matrix exponential while using the krylov method. Some action has taken; Don not panick!\n",
      "Recoganize NaN or inf in computing matrix exponential while using the krylov method. Some action has taken; Don not panick!\n",
      "Recoganize NaN or inf in computing matrix exponential while using the krylov method. Some action has taken; Don not panick!\n",
      "Recoganize NaN or inf in computing matrix exponential while using the krylov method. Some action has taken; Don not panick!\n",
      "Recoganize NaN or inf in computing matrix exponential while using the krylov method. Some action has taken; Don not panick!\n",
      "Recoganize NaN or inf in computing matrix exponential while using the krylov method. Some action has taken; Don not panick!\n",
      "Recoganize NaN or inf in computing matrix exponential while using the krylov method. Some action has taken; Don not panick!\n",
      "Recoganize NaN or inf in computing matrix exponential while using the krylov method. Some action has taken; Don not panick!\n",
      "Recoganize NaN or inf in computing matrix exponential while using the krylov method. Some action has taken; Don not panick!\n",
      "Recoganize NaN or inf in computing matrix exponential while using the krylov method. Some action has taken; Don not panick!\n",
      "Recoganize NaN or inf in computing matrix exponential while using the krylov method. Some action has taken; Don not panick!\n",
      "Recoganize NaN or inf in computing matrix exponential while using the krylov method. Some action has taken; Don not panick!\n",
      "Recoganize NaN or inf in computing matrix exponential while using the krylov method. Some action has taken; Don not panick!\n",
      "Recoganize NaN or inf in computing matrix exponential while using the krylov method. Some action has taken; Don not panick!\n",
      "Recoganize NaN or inf in computing matrix exponential while using the krylov method. Some action has taken; Don not panick!\n",
      "Recoganize NaN or inf in computing matrix exponential while using the krylov method. Some action has taken; Don not panick!\n",
      "Recoganize NaN or inf in computing matrix exponential while using the krylov method. Some action has taken; Don not panick!\n",
      "Recoganize NaN or inf in computing matrix exponential while using the krylov method. Some action has taken; Don not panick!\n",
      "Recoganize NaN or inf in computing matrix exponential while using the krylov method. Some action has taken; Don not panick!\n",
      "Recoganize NaN or inf in computing matrix exponential while using the krylov method. Some action has taken; Don not panick!\n",
      "Recoganize NaN or inf in computing matrix exponential while using the krylov method. Some action has taken; Don not panick!\n",
      "Recoganize NaN or inf in computing matrix exponential while using the krylov method. Some action has taken; Don not panick!\n",
      "Recoganize NaN or inf in computing matrix exponential while using the krylov method. Some action has taken; Don not panick!\n",
      "Recoganize NaN or inf in computing matrix exponential while using the krylov method. Some action has taken; Don not panick!\n",
      "Recoganize NaN or inf in computing matrix exponential while using the krylov method. Some action has taken; Don not panick!\n",
      "Recoganize NaN or inf in computing matrix exponential while using the krylov method. Some action has taken; Don not panick!\n",
      "Recoganize NaN or inf in computing matrix exponential while using the krylov method. Some action has taken; Don not panick!\n",
      "Recoganize NaN or inf in computing matrix exponential while using the krylov method. Some action has taken; Don not panick!\n",
      "Recoganize NaN or inf in computing matrix exponential while using the krylov method. Some action has taken; Don not panick!\n",
      "Recoganize NaN or inf in computing matrix exponential while using the krylov method. Some action has taken; Don not panick!\n",
      "Recoganize NaN or inf in computing matrix exponential while using the krylov method. Some action has taken; Don not panick!\n",
      "Recoganize NaN or inf in computing matrix exponential while using the krylov method. Some action has taken; Don not panick!\n",
      "Recoganize NaN or inf in computing matrix exponential while using the krylov method. Some action has taken; Don not panick!\n",
      "Recoganize NaN or inf in computing matrix exponential while using the krylov method. Some action has taken; Don not panick!\n",
      "Recoganize NaN or inf in computing matrix exponential while using the krylov method. Some action has taken; Don not panick!\n",
      "Recoganize NaN or inf in computing matrix exponential while using the krylov method. Some action has taken; Don not panick!\n",
      "Recoganize NaN or inf in computing matrix exponential while using the krylov method. Some action has taken; Don not panick!\n",
      "Recoganize NaN or inf in computing matrix exponential while using the krylov method. Some action has taken; Don not panick!\n",
      "Recoganize NaN or inf in computing matrix exponential while using the krylov method. Some action has taken; Don not panick!\n",
      "Recoganize NaN or inf in computing matrix exponential while using the krylov method. Some action has taken; Don not panick!\n",
      "Recoganize NaN or inf in computing matrix exponential while using the krylov method. Some action has taken; Don not panick!\n",
      "Recoganize NaN or inf in computing matrix exponential while using the krylov method. Some action has taken; Don not panick!\n",
      "Recoganize NaN or inf in computing matrix exponential while using the krylov method. Some action has taken; Don not panick!\n",
      "Recoganize NaN or inf in computing matrix exponential while using the krylov method. Some action has taken; Don not panick!\n",
      "Recoganize NaN or inf in computing matrix exponential while using the krylov method. Some action has taken; Don not panick!\n",
      "Recoganize NaN or inf in computing matrix exponential while using the krylov method. Some action has taken; Don not panick!\n",
      "Recoganize NaN or inf in computing matrix exponential while using the krylov method. Some action has taken; Don not panick!\n",
      "Recoganize NaN or inf in computing matrix exponential while using the krylov method. Some action has taken; Don not panick!\n",
      "Recoganize NaN or inf in computing matrix exponential while using the krylov method. Some action has taken; Don not panick!\n",
      "Recoganize NaN or inf in computing matrix exponential while using the krylov method. Some action has taken; Don not panick!\n",
      "Elasticity: {'k1': 0.5479452050289823, 'k2': -0.5405406386957965, 'k3': 0.0, 'k4': 0.0, 'kp1': 1.0000000432003169, 'kp2': 0.0}\n"
     ]
    }
   ],
   "source": [
    "# the sensitivity of the parameters\n",
    "\n",
    "distribution_real_model = MI.FSP(Initial_marginal_distributions, MI.range_of_species, parameter_values, 0, Tf, normalization=True)\n",
    "time, real_expectation_list = distribution_real_model.expectation()\n",
    "real_mRNA_mean = real_expectation_list[-1]['mRNA']\n",
    "\n",
    "Mean_changed = {}\n",
    "for parameter in MI.parameters_names:\n",
    "    new_parameter_values = parameter_values.copy()\n",
    "    new_parameter_values[parameter] = 1.1*parameter_values[parameter]\n",
    "    distribution_perturbed_model = MI.FSP(Initial_marginal_distributions, MI.range_of_species, new_parameter_values, 0, Tf, normalization=True)\n",
    "    time, changed_expectation_list = distribution_perturbed_model.expectation()\n",
    "    Mean_changed.update({parameter: changed_expectation_list[-1]['mRNA']})\n",
    "\n",
    "elasticity = {}\n",
    "for parameter in MI.parameters_names:\n",
    "    elasticity.update({parameter: (Mean_changed[parameter] - real_mRNA_mean)/real_mRNA_mean/0.1})\n",
    "\n",
    "print('Elasticity:', elasticity)"
   ],
   "metadata": {
    "collapsed": false
   }
  }
 ],
 "metadata": {
  "kernelspec": {
   "display_name": "Python 3",
   "language": "python",
   "name": "python3"
  },
  "language_info": {
   "codemirror_mode": {
    "name": "ipython",
    "version": 2
   },
   "file_extension": ".py",
   "mimetype": "text/x-python",
   "name": "python",
   "nbconvert_exporter": "python",
   "pygments_lexer": "ipython2",
   "version": "2.7.6"
  }
 },
 "nbformat": 4,
 "nbformat_minor": 0
}
