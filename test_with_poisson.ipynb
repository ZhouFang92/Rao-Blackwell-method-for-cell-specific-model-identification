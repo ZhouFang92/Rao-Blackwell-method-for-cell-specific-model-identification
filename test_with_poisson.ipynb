{
 "cells": [
  {
   "cell_type": "code",
   "execution_count": 1,
   "metadata": {},
   "outputs": [],
   "source": [
    "import pandas as pd\n",
    "from CRN_Simulation_Inference.RB_method_for_model_identification.RBForModelIdentification import RBForModelIdentification\n",
    "import numpy as np\n",
    "import matplotlib.pyplot as plt  \n",
    "from tqdm import tqdm\n",
    "import torch\n",
    "from ElenaDataManagement import count_samples_for_supersampling, get_X_Y_sampling_times, sample_trajectory_on_times, CRN_simulations_to_dataloaders, run_SSA_for_filtering\n",
    "\n",
    "\n",
    "# Create the CRN model\n",
    "\n",
    "sigma = 0.1\n",
    "\n",
    "species_names = ['mRNA']\n",
    "stoichiometric_matrix = [[1, -1]]\n",
    "parameters_names = ['k','g']\n",
    "reaction_names = ['mRNA prod.', 'mRNA deg.']\n",
    "propensities = [\n",
    "    lambda k: k,\n",
    "    lambda g, mRNA: g*mRNA,\n",
    "]\n",
    "\n",
    "range_of_species = \\\n",
    "    pd.DataFrame([[0, 120]], index=species_names, columns=['min', 'max'])\n",
    "range_of_parameters= \\\n",
    "    pd.DataFrame([[0, 150], [0, 150]],index=parameters_names,columns=['min', 'max'])\n",
    "discretization_size_parameters = \\\n",
    "    pd.DataFrame([100, 100], index=parameters_names) #index=parameters_names\n",
    "\n",
    "# The observation related information\n",
    "# h_function = [\n",
    "#     lambda Protein: Protein\n",
    "# ]\n",
    "h_function = [\n",
    "    lambda mRNA: mRNA # np.where(mRNA > 5, mRNA, 0)\n",
    "]\n",
    "observation_noise_intensity = [\n",
    "    lambda : sigma\n",
    "]\n",
    "#observation_noise_intensity = {'sigma1': 0.1}\n",
    "\n",
    "maximum_size_of_each_follower_subsystem = 20000 #800 # 1000\n",
    "\n",
    "\n",
    "MI = RBForModelIdentification(\n",
    "    species_names=species_names,\n",
    "    stoichiometric_matrix=stoichiometric_matrix,\n",
    "    parameters_names=parameters_names,\n",
    "    reaction_names=reaction_names,\n",
    "    propensities=propensities,\n",
    "    range_of_species=range_of_species,\n",
    "    range_of_parameters=range_of_parameters,\n",
    "    observation_noise_intensity=observation_noise_intensity,\n",
    "    discretization_size_parameters=discretization_size_parameters,\n",
    "    h_function=h_function,\n",
    "    maximum_size_of_each_follower_subsystem=maximum_size_of_each_follower_subsystem)"
   ]
  },
  {
   "cell_type": "code",
   "execution_count": 2,
   "metadata": {},
   "outputs": [
    {
     "name": "stderr",
     "output_type": "stream",
     "text": [
      "100%|██████████| 1000/1000 [00:00<00:00, 1107.12it/s]\n"
     ]
    },
    {
     "name": "stdout",
     "output_type": "stream",
     "text": [
      "--- check batch sizes ---\n",
      "training :  [torch.Size([800, 102, 1]), torch.Size([800, 2, 1]), torch.Size([800, 102, 2])]\n",
      "validation :  [torch.Size([200, 102, 1]), torch.Size([200, 2, 1]), torch.Size([200, 102, 2])]\n"
     ]
    }
   ],
   "source": [
    "# this can be done quickly by running \n",
    "import math\n",
    "tf = 1.\n",
    "# Get a trajectory of the system\n",
    "parameter_values_sets = []\n",
    "\n",
    "parameter_values_sets.append({'k': 1, 'g': 1})\n",
    "\n",
    "parameter_set_index = 0\n",
    "parameter_values = parameter_values_sets[parameter_set_index]\n",
    "#initial_state = {'M': 0, 'P': 0}\n",
    "initial_states = []\n",
    "\n",
    "for i in range(3):\n",
    "    initial_states.append({'mRNA': i})\n",
    "\n",
    "n_samples = 1000  # p in the paper\n",
    "batch_size = 1000 #int(math.sqrt(n_samples))\n",
    "\n",
    "n_Y_measurements = 2 # n in the paper\n",
    "n_X_measurements_between_Y_measurements = 100 # m_bar-2 in the paper\n",
    "\n",
    "dataset = run_SSA_for_filtering(MI, initial_states, parameter_values, tf, n_Y_measurements, n_X_measurements_between_Y_measurements, n_samples=n_samples)\n",
    "train_dataset, val_dataset, Xtimes, Ytimes = CRN_simulations_to_dataloaders(dataset, batch_size, test_split=0.2)\n",
    "\n",
    "print(\"--- check batch sizes ---\")\n",
    "print(\"training : \", [x.shape for x in next(iter(train_dataset))])\n",
    "print(\"validation : \", [x.shape for x in next(iter(val_dataset))])"
   ]
  },
  {
   "cell_type": "code",
   "execution_count": null,
   "metadata": {},
   "outputs": [
    {
     "name": "stdout",
     "output_type": "stream",
     "text": [
      "0\n"
     ]
    }
   ],
   "source": [
    "from OtherNetworks import MLP, RNNEncoder\n",
    "from DeepCME import FilteringDeepCME, TemporalFeatureExtractor\n",
    "from copy import deepcopy\n",
    "\n",
    "def deepcopy_flatten(x):\n",
    "    other = deepcopy(x)\n",
    "    if type(x) == RNNEncoder:\n",
    "        other.RNN.flatten_parameters()\n",
    "    return other\n",
    "\n",
    "r = 1                          # number of temporal features\n",
    "n = MI.get_number_of_species() # number of species\n",
    "O = 1                          # number of observed species\n",
    "\n",
    "g_functions = [\n",
    "    lambda x: x[:, 0],\n",
    "    lambda x: x[:, 0]*0. + 1., # constant function\n",
    "]\n",
    "\n",
    "R = len(g_functions)\n",
    "K = MI.get_number_of_reactions()\n",
    "\n",
    "device = torch.device('cuda' if torch.cuda.is_available() else 'cpu')\n",
    "\n",
    "temporal_feature_extractor = TemporalFeatureExtractor(r, tf, device=device)\n",
    "\n",
    "\n",
    "x_encoder = None\n",
    "y_encoder = None\n",
    "backbone = None\n",
    "baseline_net = None\n",
    "\n",
    "\n",
    "tau_list = torch.linspace(0, tf, n_X_measurements_between_Y_measurements+2)\n",
    "measurement_times = torch.linspace(0, tf, n_Y_measurements)\n",
    "tau_times = torch.linspace(0, tf/(n_Y_measurements-1), n_X_measurements_between_Y_measurements+2)\n",
    "\n",
    "# likelihoods and h functions\n",
    "from ElenaLosses import likelihood_GaussianNoise_vmap_compatible\n",
    "\n",
    "def h_fun(x):\n",
    "    #out = x[:, 2:3]\n",
    "    out = x # for BD\n",
    "    return out\n",
    "\n",
    "sigma_prior = 0.0001\n",
    "likelihood = likelihood_GaussianNoise_vmap_compatible\n",
    "likelihood_parameters = {'noise_covariance': torch.tensor([[sigma_prior]]).to(device)}\n",
    "likelihood_parameters[\"noise_covariance_determinant\"] = torch.det(likelihood_parameters[\"noise_covariance\"])\n",
    "likelihood_parameters[\"noise_covariance_inverse\"] = torch.inverse(likelihood_parameters[\"noise_covariance\"])\n",
    "\n",
    "\n",
    "chain = []\n",
    "for i in range(n_Y_measurements-2,-1,-1):\n",
    "    print(i)\n",
    "    if i == n_Y_measurements-2:\n",
    "        chain.append(FilteringDeepCME(None, None, None, None, tau_times, measurement_times, g_functions, None, R, K, O, position_in_the_chain=i, n_NN_in_chain=n_Y_measurements-1, device=device, h_transform=h_fun, likelihood=likelihood, likelihood_parameters=likelihood_parameters, next_in_chain=None, use_exact_poisson_for_debugging=True))\n",
    "    else:\n",
    "        chain.append(FilteringDeepCME(None, None, None, None, tau_times, measurement_times, g_functions, None, R, K, O, position_in_the_chain=i, n_NN_in_chain=n_Y_measurements-1, device=device, h_transform=h_fun, likelihood=likelihood, likelihood_parameters=likelihood_parameters, next_in_chain=chain[-1], use_exact_poisson_for_debugging=True))\n"
   ]
  },
  {
   "cell_type": "code",
   "execution_count": 4,
   "metadata": {},
   "outputs": [
    {
     "name": "stdout",
     "output_type": "stream",
     "text": [
      "+++++ Testing model 0 +++++\n",
      "torch.Size([800, 1]) torch.Size([800, 2])\n",
      "Testing, batch 0, Loss 0.0008820827933959663\n"
     ]
    }
   ],
   "source": [
    "# run with the poisson martingale\n",
    "\n",
    "def test_loop(model, train_loader):\n",
    "    training_loss = []\n",
    "    \n",
    "    for i, (X, Y, R) in enumerate(train_loader):\n",
    "        X = X.to(model.device)\n",
    "        Y = Y.to(model.device)\n",
    "        R = R.to(model.device)\n",
    "        def closure():\n",
    "            loss = model.poisson_loss(X, Y, R)\n",
    "            training_loss.append((len(train_loader) + i, loss.item()))\n",
    "            return loss\n",
    "        closure()\n",
    "        print(f'Testing, batch {i}, Loss {training_loss[-1][1]}')\n",
    "\n",
    "    return training_loss\n",
    "\n",
    "def chain_training_loop(chain, train_loader):\n",
    "    for i, model in enumerate(chain):\n",
    "        print(f\"+++++ Testing model {model.position_in_the_chain} +++++\")\n",
    "        #optimizer = torch.optim.LBFGS(model.parameters(), lr=lr)\n",
    "        training_loss = test_loop(model, train_loader)\n",
    "        model.freeze()\n",
    "\n",
    "\n",
    "chain_training_loop(chain, train_dataset)"
   ]
  },
  {
   "cell_type": "code",
   "execution_count": 5,
   "metadata": {},
   "outputs": [
    {
     "name": "stdout",
     "output_type": "stream",
     "text": [
      "tensor([[[1.1793, 0.3931]]], device='cuda:0')\n",
      "tensor(3., device='cuda:0')\n"
     ]
    },
    {
     "name": "stderr",
     "output_type": "stream",
     "text": [
      "/local0/scratch/git/Rao-Blackwell-method-for-cell-specific-model-identification/ElenaLosses.py:56: UserWarning: The use of `x.T` on tensors of dimension other than 2 to reverse their shape is deprecated and it will throw an error in a future release. Consider `x.mT` to transpose batches of matrices or `x.permute(*torch.arange(x.ndim - 1, -1, -1))` to reverse the dimensions of a tensor. (Triggered internally at ../aten/src/ATen/native/TensorShape.cpp:3675.)\n",
      "  out = torch.vmap(lambda hx, Sigma, s_det, Sigma_inv, Y : torch.exp(-1/2 * (Y - hx) @ Sigma_inv @ (Y - hx).T), in_dims=(0, None, None, None, None))(hx, Sigma, s_det, Sigma_inv, Y)\n"
     ]
    }
   ],
   "source": [
    "results = chain[-1].analytical_martingale(torch.tensor(0.), torch.tensor(1.), torch.tensor([[6.]]).to(device), torch.tensor([[[3.]]]).to(device))\n",
    "print(results)\n",
    "print(results[0,0,0]/results[0,0,1])"
   ]
  }
 ],
 "metadata": {
  "kernelspec": {
   "display_name": "base",
   "language": "python",
   "name": "python3"
  },
  "language_info": {
   "codemirror_mode": {
    "name": "ipython",
    "version": 3
   },
   "file_extension": ".py",
   "mimetype": "text/x-python",
   "name": "python",
   "nbconvert_exporter": "python",
   "pygments_lexer": "ipython3",
   "version": "3.9.12"
  }
 },
 "nbformat": 4,
 "nbformat_minor": 2
}
