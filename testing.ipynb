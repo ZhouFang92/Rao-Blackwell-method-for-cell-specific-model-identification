{
 "cells": [
  {
   "cell_type": "markdown",
   "metadata": {},
   "source": [
    "## Filtering for CRN with neural martingales\n",
    "\n",
    "### Chemical Reaction Network setup"
   ]
  },
  {
   "cell_type": "code",
   "execution_count": 1,
   "metadata": {},
   "outputs": [
    {
     "name": "stdout",
     "output_type": "stream",
     "text": [
      "leader species:  ['G1']\n",
      "follower species:  ['mRNA', 'G0']\n",
      "follower parameters:  ['kp1', 'k2', 'k1']\n"
     ]
    }
   ],
   "source": [
    "import pandas as pd\n",
    "from CRN_Simulation_Inference.RB_method_for_model_identification.RBForModelIdentification import RBForModelIdentification\n",
    "import numpy as np\n",
    "import matplotlib.pyplot as plt  \n",
    "from tqdm import tqdm\n",
    "import torch\n",
    "from ElenaDataManagement import count_samples_for_supersampling, get_X_Y_sampling_times, sample_trajectory_on_times, CRN_simulations_to_dataloaders, run_SSA_for_filtering\n",
    "\n",
    "species_names = ['G0', 'G1', 'mRNA']\n",
    "stoichiometric_matrix = [[-1, 1, 0, 0],\n",
    "                         [1, -1, 0, 0],\n",
    "                         [0, 0, 1,-1]]\n",
    "parameters_names = ['k1','k2', 'kp1']\n",
    "reaction_names = ['G Act. 1', 'G Deg. 1', 'mRNA prod.', 'mRNA deg.']\n",
    "propensities = [\n",
    "    lambda k1, G0: k1*G0,\n",
    "    lambda k2, G1: k2*G1,\n",
    "    lambda kp1, G1: kp1*G1,\n",
    "    lambda mRNA: mRNA\n",
    "]\n",
    "\n",
    "range_of_species = \\\n",
    "    pd.DataFrame([[0, 1], [0, 1], [0, 120] ], index=species_names, columns=['min', 'max'])\n",
    "range_of_parameters= \\\n",
    "    pd.DataFrame([[0, 1], [0, 1], [0, 150]],index=parameters_names,columns=['min', 'max'])\n",
    "discretization_size_parameters = \\\n",
    "    pd.DataFrame([21, 21, 151], index=parameters_names) #index=parameters_names\n",
    "\n",
    "# The observation related information\n",
    "# h_function = [\n",
    "#     lambda Protein: Protein\n",
    "# ]\n",
    "h_function = [\n",
    "    lambda mRNA: mRNA # np.where(mRNA > 5, mRNA, 0)\n",
    "]\n",
    "observation_noise_intensity = [\n",
    "    lambda : 0.1\n",
    "]\n",
    "#observation_noise_intensity = {'sigma1': 0.1}\n",
    "\n",
    "maximum_size_of_each_follower_subsystem = 20000 #800 # 1000\n",
    "\n",
    "\n",
    "MI = RBForModelIdentification(\n",
    "    species_names=species_names,\n",
    "    stoichiometric_matrix=stoichiometric_matrix,\n",
    "    parameters_names=parameters_names,\n",
    "    reaction_names=reaction_names,\n",
    "    propensities=propensities,\n",
    "    range_of_species=range_of_species,\n",
    "    range_of_parameters=range_of_parameters,\n",
    "    observation_noise_intensity=observation_noise_intensity,\n",
    "    discretization_size_parameters=discretization_size_parameters,\n",
    "    h_function=h_function,\n",
    "    maximum_size_of_each_follower_subsystem=maximum_size_of_each_follower_subsystem)\n",
    "\n",
    "print('leader species: ', MI.leader_species_time_course_data)\n",
    "print('follower species: ', MI.get_follower_species_time_course_data())\n",
    "print('follower parameters: ', MI.get_follower_parameters_time_course_data())\n",
    "\n",
    "# import pandas as pd\n",
    "# from CRN_Simulation_Inference.RB_method_for_model_identification.RBForModelIdentification import RBForModelIdentification\n",
    "# import numpy as np\n",
    "# import matplotlib.pyplot as plt  \n",
    "# from tqdm import tqdm\n",
    "# import torch\n",
    "# from ElenaDataManagement import count_samples_for_supersampling, get_X_Y_sampling_times, sample_trajectory_on_times, CRN_simulations_to_dataloaders, run_SSA_for_filtering\n",
    "\n",
    "# species_names = ['M', 'P']\n",
    "# stoichiometric_matrix = [[1, 0, -1, 0],\n",
    "#                          [0, 1, 0, -1]]\n",
    "# parameters_names = ['b1','b2', 'd1', 'd2']\n",
    "# reaction_names = ['Birth Mrna', 'Birthe Protein', 'Degrade Mrna', 'Degrade Protein']\n",
    "# propensities = [\n",
    "#     lambda b1: b1,\n",
    "#     lambda b2, M: b2*M,\n",
    "#     lambda d1, M: d1*M,\n",
    "#     lambda d2, P: d2*P\n",
    "# ]\n",
    "\n",
    "# range_of_species = \\\n",
    "#     pd.DataFrame([[0, 100], [0, 100] ], index=species_names, columns=['min', 'max'])\n",
    "# range_of_parameters= \\\n",
    "#     pd.DataFrame([[0, 10], [0, 10], [0, 10], [0, 10]],index=parameters_names,columns=['min', 'max'])\n",
    "# discretization_size_parameters = \\\n",
    "#     pd.DataFrame([21, 21, 21, 21], index=parameters_names) #index=parameters_names\n",
    "\n",
    "# # The observation related information\n",
    "# # h_function = [\n",
    "# #     lambda Protein: Protein\n",
    "# # ]\n",
    "# h_function = [\n",
    "#     lambda P: P # np.where(mRNA > 5, mRNA, 0)\n",
    "# ]\n",
    "# observation_noise_intensity = [\n",
    "#     lambda : 0.1\n",
    "# ]\n",
    "# #observation_noise_intensity = {'sigma1': 0.1}\n",
    "\n",
    "# maximum_size_of_each_follower_subsystem = 20000 #800 # 1000\n",
    "\n",
    "\n",
    "# MI = RBForModelIdentification(\n",
    "#     species_names=species_names,\n",
    "#     stoichiometric_matrix=stoichiometric_matrix,\n",
    "#     parameters_names=parameters_names,\n",
    "#     reaction_names=reaction_names,\n",
    "#     propensities=propensities,\n",
    "#     range_of_species=range_of_species,\n",
    "#     range_of_parameters=range_of_parameters,\n",
    "#     observation_noise_intensity=observation_noise_intensity,\n",
    "#     discretization_size_parameters=discretization_size_parameters,\n",
    "#     h_function=h_function,\n",
    "#     maximum_size_of_each_follower_subsystem=maximum_size_of_each_follower_subsystem)\n",
    "\n",
    "# print('leader species: ', MI.leader_species_time_course_data)\n",
    "# print('follower species: ', MI.get_follower_species_time_course_data())\n",
    "# print('follower parameters: ', MI.get_follower_parameters_time_course_data())"
   ]
  },
  {
   "cell_type": "markdown",
   "metadata": {},
   "source": [
    "setup parameters and simulate a single trajectory (just for visualization)"
   ]
  },
  {
   "cell_type": "code",
   "execution_count": 30,
   "metadata": {},
   "outputs": [
    {
     "data": {
      "image/png": "[encoded data removed]",
      "text/plain": [
       "<Figure size 432x432 with 4 Axes>"
      ]
     },
     "metadata": {
      "needs_background": "light"
     },
     "output_type": "display_data"
    }
   ],
   "source": [
    "# Get a trajectory of the system\n",
    "parameter_values_sets = []\n",
    "#parameter_values_sets.append({'b1': 5, 'b2': 5, 'd1': 0.5, 'd2': 1}) # base parameters\n",
    "parameter_values_sets.append({'k1': 1, 'k2': 1, 'kp1': 1})\n",
    "\n",
    "parameter_set_index = 0\n",
    "parameter_values = parameter_values_sets[parameter_set_index]\n",
    "#initial_state = {'M': 0, 'P': 0}\n",
    "initial_state = {'G0': 1, 'G1': 0, 'mRNA': 0}\n",
    "tf = 1\n",
    "time_list, state_list, cPP = MI.SSA(initial_state, parameter_values, 0, tf, compute_centered_poisson_process=True)\n",
    "MI.plot_trajectories(time_list, state_list)\n",
    "\n",
    "# Generate the observations\n",
    "\n",
    "Observation_times_list = np.linspace(0, tf, 50)\n",
    "Y_list = MI.generate_observations(state_list, time_list, parameter_values, Observation_times_list)\n",
    "\n",
    "# plot the observations\n",
    "plt.plot(Observation_times_list, Y_list)\n",
    "plt.ylabel(\"Observed process\")\n",
    "plt.show()"
   ]
  },
  {
   "cell_type": "markdown",
   "metadata": {},
   "source": [
    "visualize the centered Poisson Process"
   ]
  },
  {
   "cell_type": "code",
   "execution_count": 31,
   "metadata": {},
   "outputs": [
    {
     "data": {
      "image/png": "[encoded data removed]",
      "text/plain": [
       "<Figure size 432x288 with 1 Axes>"
      ]
     },
     "metadata": {
      "needs_background": "light"
     },
     "output_type": "display_data"
    }
   ],
   "source": [
    "cPP.plot() "
   ]
  },
  {
   "cell_type": "code",
   "execution_count": 4,
   "metadata": {},
   "outputs": [
    {
     "data": {
      "text/plain": [
       "[0.0, 0.6207873179123065, 1.0]"
      ]
     },
     "execution_count": 4,
     "metadata": {},
     "output_type": "execute_result"
    }
   ],
   "source": [
    "cPP.time_list"
   ]
  },
  {
   "cell_type": "code",
   "execution_count": 5,
   "metadata": {},
   "outputs": [
    {
     "data": {
      "text/plain": [
       "[0.0, 0.6207873179123065, 1.0]"
      ]
     },
     "execution_count": 5,
     "metadata": {},
     "output_type": "execute_result"
    }
   ],
   "source": [
    "cPP.time_list"
   ]
  },
  {
   "cell_type": "code",
   "execution_count": 6,
   "metadata": {},
   "outputs": [
    {
     "data": {
      "text/plain": [
       "array([[ 0.        ,  0.        ,  0.        ,  0.        ],\n",
       "       [ 0.37921268,  0.        ,  0.        ,  0.        ],\n",
       "       [ 0.37921268, -0.37921268, -0.37921268,  0.        ]])"
      ]
     },
     "execution_count": 6,
     "metadata": {},
     "output_type": "execute_result"
    }
   ],
   "source": [
    "cPP.sample_at_times([x for x in cPP.time_list])"
   ]
  },
  {
   "cell_type": "markdown",
   "metadata": {},
   "source": [
    "### Debugging information"
   ]
  },
  {
   "cell_type": "code",
   "execution_count": 7,
   "metadata": {},
   "outputs": [
    {
     "data": {
      "text/plain": [
       "[0.0, 0.6207873179123065, 1.0]"
      ]
     },
     "execution_count": 7,
     "metadata": {},
     "output_type": "execute_result"
    }
   ],
   "source": [
    "cPP.time_list"
   ]
  },
  {
   "cell_type": "code",
   "execution_count": 8,
   "metadata": {},
   "outputs": [
    {
     "data": {
      "text/plain": [
       "[array([1., 0., 0., 0.]), array([1., 0., 0., 0.]), array([0., 1., 1., 0.])]"
      ]
     },
     "execution_count": 8,
     "metadata": {},
     "output_type": "execute_result"
    }
   ],
   "source": [
    "cPP.current_a"
   ]
  },
  {
   "cell_type": "code",
   "execution_count": 9,
   "metadata": {},
   "outputs": [
    {
     "data": {
      "text/plain": [
       "[array([0., 0., 0., 0.]),\n",
       " array([0.62078732, 0.        , 0.        , 0.        ]),\n",
       " array([0.62078732, 0.37921268, 0.37921268, 0.        ])]"
      ]
     },
     "execution_count": 9,
     "metadata": {},
     "output_type": "execute_result"
    }
   ],
   "source": [
    "cPP.centered_PP_mean"
   ]
  },
  {
   "cell_type": "code",
   "execution_count": 10,
   "metadata": {},
   "outputs": [
    {
     "data": {
      "text/plain": [
       "[array([0., 0., 0., 0.]),\n",
       " array([0.37921268, 0.        , 0.        , 0.        ]),\n",
       " array([ 0.37921268, -0.37921268, -0.37921268,  0.        ])]"
      ]
     },
     "execution_count": 10,
     "metadata": {},
     "output_type": "execute_result"
    }
   ],
   "source": [
    "cPP.centered_PP"
   ]
  },
  {
   "cell_type": "code",
   "execution_count": 11,
   "metadata": {},
   "outputs": [
    {
     "data": {
      "text/plain": [
       "array([[ 0.37921268, -9.36921268, -9.36921268,  0.        ],\n",
       "       [ 0.37921268, -9.37921268, -9.37921268,  0.        ],\n",
       "       [ 0.37921268, -9.38921268, -9.38921268,  0.        ]])"
      ]
     },
     "execution_count": 11,
     "metadata": {},
     "output_type": "execute_result"
    }
   ],
   "source": [
    "cPP.sample_at_times([9.99, 10., 10.01])"
   ]
  },
  {
   "cell_type": "code",
   "execution_count": 12,
   "metadata": {},
   "outputs": [
    {
     "name": "stdout",
     "output_type": "stream",
     "text": [
      "[ 0.37921268 -9.36921268 -9.36921268  0.        ]\n",
      "[ 0.37921268 -9.38921268 -9.38921268  0.        ]\n"
     ]
    }
   ],
   "source": [
    "print(cPP.at(9.99))\n",
    "print(cPP.at(10.01))"
   ]
  },
  {
   "cell_type": "code",
   "execution_count": 13,
   "metadata": {},
   "outputs": [
    {
     "data": {
      "text/plain": [
       "[array([0., 0., 0., 0.]), array([1., 0., 0., 0.]), array([1., 0., 0., 0.])]"
      ]
     },
     "execution_count": 13,
     "metadata": {},
     "output_type": "execute_result"
    }
   ],
   "source": [
    "cPP.centered_PP_actual"
   ]
  },
  {
   "cell_type": "code",
   "execution_count": 14,
   "metadata": {},
   "outputs": [
    {
     "data": {
      "text/plain": [
       "3"
      ]
     },
     "execution_count": 14,
     "metadata": {},
     "output_type": "execute_result"
    }
   ],
   "source": [
    "len(cPP.time_list)"
   ]
  },
  {
   "cell_type": "code",
   "execution_count": 15,
   "metadata": {},
   "outputs": [
    {
     "data": {
      "text/plain": [
       "0"
      ]
     },
     "execution_count": 15,
     "metadata": {},
     "output_type": "execute_result"
    }
   ],
   "source": [
    "np.searchsorted(np.array(cPP.time_list), 0.01, side='right') - 1"
   ]
  },
  {
   "cell_type": "code",
   "execution_count": 16,
   "metadata": {},
   "outputs": [
    {
     "data": {
      "text/plain": [
       "[0.0, 0.6207873179123065, 1.0]"
      ]
     },
     "execution_count": 16,
     "metadata": {},
     "output_type": "execute_result"
    }
   ],
   "source": [
    "cPP.time_list"
   ]
  },
  {
   "cell_type": "code",
   "execution_count": 17,
   "metadata": {},
   "outputs": [
    {
     "data": {
      "text/plain": [
       "[array([0., 0., 0., 0.]),\n",
       " array([0.37921268, 0.        , 0.        , 0.        ]),\n",
       " array([ 0.37921268, -0.37921268, -0.37921268,  0.        ])]"
      ]
     },
     "execution_count": 17,
     "metadata": {},
     "output_type": "execute_result"
    }
   ],
   "source": [
    "cPP.centered_PP"
   ]
  },
  {
   "cell_type": "code",
   "execution_count": 18,
   "metadata": {},
   "outputs": [
    {
     "data": {
      "text/plain": [
       "array([[ 0.37921268, -9.36921268, -9.36921268,  0.        ],\n",
       "       [ 0.37921268, -9.38921268, -9.38921268,  0.        ]])"
      ]
     },
     "execution_count": 18,
     "metadata": {},
     "output_type": "execute_result"
    }
   ],
   "source": [
    "cPP.sample_at_times([9.99, 10.01])"
   ]
  },
  {
   "cell_type": "code",
   "execution_count": 19,
   "metadata": {},
   "outputs": [
    {
     "data": {
      "text/plain": [
       "array([ 0.37921268, -9.36921268, -9.36921268,  0.        ])"
      ]
     },
     "execution_count": 19,
     "metadata": {},
     "output_type": "execute_result"
    }
   ],
   "source": [
    "cPP.at(9.99)"
   ]
  },
  {
   "cell_type": "code",
   "execution_count": 20,
   "metadata": {},
   "outputs": [
    {
     "data": {
      "text/plain": [
       "2"
      ]
     },
     "execution_count": 20,
     "metadata": {},
     "output_type": "execute_result"
    }
   ],
   "source": [
    "np.searchsorted(np.array(cPP.time_list), 9.99, side='right') - 1"
   ]
  },
  {
   "cell_type": "markdown",
   "metadata": {},
   "source": [
    "### Dataloader structure\n",
    "\n",
    "Let $\\mathcal{T}$ be the set of measurement times, $\\Tau$ the time discretization set, and $\\mathcal{R}$ be the set of reactions. The dataloader should contain:\n",
    "\n",
    "* $X(t) \\forall t\\in\\Tau$ the full process \n",
    "* $Y(t) \\forall t\\in\\mathcal{T}$ the observed process\n",
    "* $\\tilde{R}_k(t) \\forall t\\in\\Tau, k\\in \\mathcal{R}$ the centered poisson process associated to the reaction $k$ \n",
    "\n",
    "this implies the following tensor dimensions (we condiser the batch size $B$) of the input tensors, respectively:\n",
    "\n",
    "* $[B, |\\Tau|, |X|]$\n",
    "* $[B, |\\mathcal{T}|, |y|]$\n",
    "* $[B, |\\Tau|, |r|]$\n"
   ]
  },
  {
   "cell_type": "code",
   "execution_count": 26,
   "metadata": {},
   "outputs": [
    {
     "name": "stderr",
     "output_type": "stream",
     "text": [
      "100%|██████████| 1000/1000 [00:00<00:00, 1011.96it/s]\n"
     ]
    },
    {
     "name": "stdout",
     "output_type": "stream",
     "text": [
      "--- check batch sizes ---\n",
      "training :  [torch.Size([50, 102, 3]), torch.Size([50, 2, 1]), torch.Size([50, 102, 4])]\n",
      "validation :  [torch.Size([50, 102, 3]), torch.Size([50, 2, 1]), torch.Size([50, 102, 4])]\n"
     ]
    }
   ],
   "source": [
    "# this can be done quickly by running \n",
    "import math\n",
    "n_samples = 1000  # p in the paper\n",
    "batch_size = 50 #int(math.sqrt(n_samples))\n",
    "paired_batch_size = 1000\n",
    "\n",
    "n_Y_measurements = 2 # n in the paper\n",
    "n_X_measurements_between_Y_measurements = 100 # m_bar-2 in the paper\n",
    "\n",
    "dataset = run_SSA_for_filtering(MI, initial_state, parameter_values, tf, n_Y_measurements, n_X_measurements_between_Y_measurements, n_samples=n_samples)\n",
    "train_dataset, val_dataset, Xtimes, Ytimes = CRN_simulations_to_dataloaders(dataset, batch_size, test_split=0.5)\n",
    "\n",
    "print(\"--- check batch sizes ---\")\n",
    "print(\"training : \", [x.shape for x in next(iter(train_dataset))])\n",
    "print(\"validation : \", [x.shape for x in next(iter(val_dataset))])"
   ]
  },
  {
   "cell_type": "markdown",
   "metadata": {},
   "source": [
    "### Reimplementing DeepCME"
   ]
  },
  {
   "cell_type": "code",
   "execution_count": null,
   "metadata": {},
   "outputs": [],
   "source": [
    "from OtherNetworks import MLP\n",
    "from DeepCME import DeepCME, TemporalFeatureExtractor\n",
    "\n",
    "\n",
    "r = 1                          # number of temporal features\n",
    "n = MI.get_number_of_species() # number of species\n",
    "\n",
    "g_functions = [\n",
    "    lambda x: x,\n",
    "    lambda x: x**2\n",
    "]\n",
    "\n",
    "R = len(g_functions)\n",
    "K = MI.get_number_of_reactions()\n",
    "\n",
    "device = torch.device('cuda' if torch.cuda.is_available() else 'cpu')\n",
    "\n",
    "temporal_feature_extractor = TemporalFeatureExtractor(r, tf, device=device)\n",
    "L = 2                          # number of layers\n",
    "backbone = MLP(2*r+n, L, R*K, L, activation=torch.nn.Tanh, postprocessing_layer=None)\n",
    "\n"
   ]
  },
  {
   "cell_type": "markdown",
   "metadata": {},
   "source": [
    "### Neural Network setup\n",
    "\n",
    "We omit the definition of the CRN, which is done at the beginning of the file"
   ]
  },
  {
   "cell_type": "code",
   "execution_count": 23,
   "metadata": {},
   "outputs": [
    {
     "name": "stdout",
     "output_type": "stream",
     "text": [
      "total number of parameters:  46274\n"
     ]
    }
   ],
   "source": [
    "from ElenaNetworks import NeuralMartingale, NeuralMartingaleChain\n",
    "from OtherNetworks import RNNEncoder, MLP\n",
    "\n",
    "from ElenaLosses import likelihood_GaussianNoise_unbatched, likelihood_constant_one\n",
    "\n",
    "Delta = torch.tensor(MI.stoichiometric_matrix)\n",
    "\n",
    "# we need a version of the h_function that is efficient for torch computations (maybe?)\n",
    "\n",
    "hx_number_of_dimensions = 1\n",
    "gx_number_of_dimensions = 2\n",
    "\n",
    "class MLP_projecting(MLP):\n",
    "\n",
    "    def __init__(self, *argv, **kwargs):\n",
    "        super(MLP_projecting, self).__init__(*argv, **kwargs)\n",
    "        pass\n",
    "\n",
    "    def forward(self, x):\n",
    "        # remove the 'k related' dimensions\n",
    "        return super(MLP_projecting, self).forward(x[:, 0])\n",
    "    \n",
    "\n",
    "XEncoder = MLP(MI.get_number_of_species(), 64, 64, 3, activation=torch.nn.Tanh)\n",
    "YEncoder = MLP_projecting(1, 64, 64, 3, activation=torch.nn.Tanh) #RNNEncoder(len(h_function), 64, activation=torch.nn.Tanh)\n",
    "backbone = MLP(1+XEncoder.output_size+YEncoder.output_size, 64, gx_number_of_dimensions, 4, postprocessing_layer=torch.nn.Softplus(), activation=torch.nn.Tanh)\n",
    "\n",
    "device = torch.device(\"cuda\" if torch.cuda.is_available() else \"cpu\")\n",
    "\n",
    "NN = NeuralMartingale(\n",
    "    XEncoder, YEncoder, backbone,\n",
    "    likelihood_GaussianNoise_unbatched,\n",
    "    {\"noise_covariance\": 0.1*torch.eye(hx_number_of_dimensions)}, # covariance matrix (here the identity)\n",
    "    lambda x: x[1],          # h_transform\n",
    "    lambda x: x[0:2],             # g_function\n",
    "    torch.tensor(MI.stoichiometric_matrix).to(device), # stoichiometry matrix\n",
    "    n_X_measurements_between_Y_measurements, n_Y_measurements,\n",
    "    Xtimes, Ytimes,\n",
    "    gx_number_of_dimensions,\n",
    "    device = device,\n",
    "    paired_batch_size = 10,\n",
    "    batch_size = batch_size\n",
    ")\n",
    "\n",
    "NN_chain = NeuralMartingaleChain(n_Y_measurements-1, NN.to(device)).to(device)\n",
    "# print model size\n",
    "print(\"total number of parameters: \", sum(p.numel() for p in NN_chain.chain[-1].parameters() if p.requires_grad))"
   ]
  },
  {
   "cell_type": "markdown",
   "metadata": {},
   "source": [
    "### Training loop\n",
    "\n",
    "now we have to define the training loop"
   ]
  },
  {
   "cell_type": "code",
   "execution_count": null,
   "metadata": {},
   "outputs": [],
   "source": [
    "def inner_training_loop(model, k, train_loader, optimizer, n_epochs, validation_loader=None, scheduler=None):\n",
    "    training_loss = []\n",
    "    validation_loss = []\n",
    "    for epoch in range(n_epochs):\n",
    "        for i, (X, Y, R) in enumerate(train_loader):\n",
    "            print(i)\n",
    "            X = X.to(model.device)\n",
    "            Y = Y.to(model.device)\n",
    "            R = R.to(model.device)\n",
    "            optimizer.zero_grad()\n",
    "            loss = model.chain[k].loss(X, Y, R, k)\n",
    "            loss.backward()\n",
    "            optimizer.step()\n",
    "            if scheduler is not None:\n",
    "                scheduler.step()\n",
    "            if i % 1 == 0:\n",
    "                print(f'Training: Epoch {epoch}, batch {i}, Loss {loss.item()}')\n",
    "            training_loss.append((epoch*len(train_loader) + i, loss.item()))\n",
    "        print(len(train_loader))\n",
    "        print(f'per epoch training loss (batch average): {sum([training_loss[epoch*len(train_loader) + x][1] for x in range(len(train_loader))])/len(train_loader)}')\n",
    "        if validation_loader is not None:\n",
    "            for i, (X, Y, R) in enumerate(validation_loader):\n",
    "                with torch.no_grad():\n",
    "                    X = X.to(model.device)\n",
    "                    Y = Y.to(model.device)\n",
    "                    R = R.to(model.device)\n",
    "                    loss = model.chain[k].loss(X, Y, R, k)\n",
    "                    validation_loss.append((epoch*len(validation_loader) + i, loss.item()))\n",
    "                    print(f'Validation: Epoch {epoch}, batch {i}, Loss {loss.item()}')\n",
    "            print(f'per epoch validation loss (batch average): {sum([validation_loss[epoch*len(validation_loader) + x][1] for x in range(len(validation_loader))])/len(validation_loader)}')\n",
    "    return training_loss, validation_loss\n",
    "            \n",
    "\n",
    "def outer_training_loop(model, train_loader, optimizer, n_epochs):\n",
    "    for k in range(model.n_Y_measurements - 1):\n",
    "        for epoch in range(n_epochs):\n",
    "            for i, (X, Y, R) in enumerate(train_loader):\n",
    "                \n",
    "                X = X.to(model.device)\n",
    "                Y = Y.to(model.device)\n",
    "                R = R.to(model.device)\n",
    "                optimizer.zero_grad()\n",
    "                loss = model.loss(X, Y, R, k)\n",
    "                loss.backward()\n",
    "                optimizer.step()\n",
    "                if i % 10 == 0:\n",
    "                    print(f'Epoch {epoch}, Loss {loss.item()}')\n",
    "\n",
    "optimizer = torch.optim.Adam(NN_chain.parameters(), lr=0.01)\n",
    "scheduler = torch.optim.lr_scheduler.StepLR(optimizer, step_size=10000, gamma=1.)\n",
    "train_history, val_history = inner_training_loop(NN_chain, len(NN_chain.chain)-1, train_dataset, optimizer, 100, val_dataset, scheduler)"
   ]
  },
  {
   "cell_type": "code",
   "execution_count": 21,
   "metadata": {},
   "outputs": [
    {
     "data": {
      "text/plain": [
       "[torch.Size([50, 102, 3]), torch.Size([50, 2, 1]), torch.Size([50, 102, 4])]"
      ]
     },
     "execution_count": 21,
     "metadata": {},
     "output_type": "execute_result"
    }
   ],
   "source": [
    "[ x.shape for x in next(iter(val_dataset))]\n",
    "# plot the training and validation loss"
   ]
  },
  {
   "cell_type": "code",
   "execution_count": 22,
   "metadata": {},
   "outputs": [
    {
     "ename": "NameError",
     "evalue": "name 'train_history' is not defined",
     "output_type": "error",
     "traceback": [
      "\u001b[0;31m---------------------------------------------------------------------------\u001b[0m",
      "\u001b[0;31mNameError\u001b[0m                                 Traceback (most recent call last)",
      "Cell \u001b[0;32mIn[22], line 2\u001b[0m\n\u001b[1;32m      1\u001b[0m \u001b[38;5;66;03m# plot the training and validation loss\u001b[39;00m\n\u001b[0;32m----> 2\u001b[0m plt\u001b[38;5;241m.\u001b[39mplot([x[\u001b[38;5;241m0\u001b[39m] \u001b[38;5;28;01mfor\u001b[39;00m x \u001b[38;5;129;01min\u001b[39;00m \u001b[43mtrain_history\u001b[49m], [x[\u001b[38;5;241m1\u001b[39m] \u001b[38;5;28;01mfor\u001b[39;00m x \u001b[38;5;129;01min\u001b[39;00m train_history], label\u001b[38;5;241m=\u001b[39m\u001b[38;5;124m'\u001b[39m\u001b[38;5;124mTraining Loss\u001b[39m\u001b[38;5;124m'\u001b[39m)\n\u001b[1;32m      3\u001b[0m \u001b[38;5;66;03m# running average\u001b[39;00m\n\u001b[1;32m      4\u001b[0m plt\u001b[38;5;241m.\u001b[39mplot([x[\u001b[38;5;241m0\u001b[39m] \u001b[38;5;28;01mfor\u001b[39;00m x \u001b[38;5;129;01min\u001b[39;00m train_history], [np\u001b[38;5;241m.\u001b[39mmean([train_history[i][\u001b[38;5;241m1\u001b[39m] \u001b[38;5;28;01mfor\u001b[39;00m i \u001b[38;5;129;01min\u001b[39;00m \u001b[38;5;28mrange\u001b[39m(\u001b[38;5;28mmax\u001b[39m(\u001b[38;5;241m0\u001b[39m, x\u001b[38;5;241m-\u001b[39m\u001b[38;5;241m10\u001b[39m), x\u001b[38;5;241m+\u001b[39m\u001b[38;5;241m1\u001b[39m)]) \u001b[38;5;28;01mfor\u001b[39;00m x \u001b[38;5;129;01min\u001b[39;00m [x[\u001b[38;5;241m0\u001b[39m] \u001b[38;5;28;01mfor\u001b[39;00m x \u001b[38;5;129;01min\u001b[39;00m train_history]], label\u001b[38;5;241m=\u001b[39m\u001b[38;5;124m'\u001b[39m\u001b[38;5;124mTraining Loss (smoothed)\u001b[39m\u001b[38;5;124m'\u001b[39m, linestyle\u001b[38;5;241m=\u001b[39m\u001b[38;5;124m'\u001b[39m\u001b[38;5;124m--\u001b[39m\u001b[38;5;124m'\u001b[39m)    \n",
      "\u001b[0;31mNameError\u001b[0m: name 'train_history' is not defined"
     ]
    }
   ],
   "source": [
    "# plot the training and validation loss\n",
    "plt.plot([x[0] for x in train_history], [x[1] for x in train_history], label='Training Loss')\n",
    "# running average\n",
    "plt.plot([x[0] for x in train_history], [np.mean([train_history[i][1] for i in range(max(0, x-10), x+1)]) for x in [x[0] for x in train_history]], label='Training Loss (smoothed)', linestyle='--')    \n",
    "plt.legend()\n",
    "plt.show()\n",
    "\n",
    "plt.plot([x[0] for x in val_history], [x[1] for x in val_history], label='Validation Loss')\n",
    "# running average\n",
    "plt.plot([x[0] for x in val_history], [np.mean([val_history[i][1] for i in range(max(0, x-10), x+1)]) for x in [x[0] for x in val_history]], label='Validation Loss (smoothed)', linestyle='--')\n",
    "plt.legend()\n",
    "plt.show()"
   ]
  },
  {
   "cell_type": "code",
   "execution_count": 23,
   "metadata": {},
   "outputs": [],
   "source": [
    "# plot the history\n",
    "# # make lines thinner\n",
    "# plt.plot([i for i,x in enumerate(NN_chain.chain[-1].history[\"G\"])], [x.item() for x in (NN_chain.chain[-1].history[\"G\"])], label='G', linewidth=0.5)\n",
    "# plt.plot([i for i,x in enumerate(NN_chain.chain[-1].history[\"SI\"])], [x.item() for x in (NN_chain.chain[-1].history[\"SI\"])], label='SI')\n",
    "# plt.plot([i for i,x in enumerate(NN_chain.chain[-1].history[\"NN\"])], [x.item() for x in (NN_chain.chain[-1].history[\"NN\"])], label='NN')\n",
    "# plt.title(\"Sum\")\n",
    "# plt.legend()\n",
    "# plt.show()\n",
    "# # and the standard deviations\n",
    "# plt.plot([i for i,x in enumerate(NN_chain.chain[-1].history[\"Gs\"])], [x.item() for x in (NN_chain.chain[-1].history[\"Gs\"])], label='G', linewidth=0.5)\n",
    "# plt.plot([i for i,x in enumerate(NN_chain.chain[-1].history[\"SIs\"])], [x.item() for x in (NN_chain.chain[-1].history[\"SIs\"])], label='SI')\n",
    "# plt.plot([i for i,x in enumerate(NN_chain.chain[-1].history[\"NNs\"])], [x.item() for x in (NN_chain.chain[-1].history[\"NNs\"])], label='NN')\n",
    "# plt.legend()\n",
    "# plt.title(\"Standard deviations\")\n",
    "# plt.show()\n"
   ]
  },
  {
   "cell_type": "code",
   "execution_count": 30,
   "metadata": {},
   "outputs": [
    {
     "data": {
      "text/plain": [
       "tensor([[0.5739, 0.4471]], device='cuda:0', grad_fn=<SoftplusBackward0>)"
      ]
     },
     "execution_count": 30,
     "metadata": {},
     "output_type": "execute_result"
    }
   ],
   "source": [
    "out = NN_chain.chain[-1].forward(torch.tensor(0.).cuda(), torch.tensor([[1.,0.,0.]]).cuda(), torch.tensor([[[100000.]]]).cuda())\n",
    "out#/out.sum()"
   ]
  },
  {
   "cell_type": "markdown",
   "metadata": {},
   "source": [
    "## Other"
   ]
  },
  {
   "cell_type": "code",
   "execution_count": null,
   "metadata": {},
   "outputs": [],
   "source": []
  },
  {
   "cell_type": "markdown",
   "metadata": {},
   "source": []
  }
 ],
 "metadata": {
  "kernelspec": {
   "display_name": "base",
   "language": "python",
   "name": "python3"
  },
  "language_info": {
   "codemirror_mode": {
    "name": "ipython",
    "version": 3
   },
   "file_extension": ".py",
   "mimetype": "text/x-python",
   "name": "python",
   "nbconvert_exporter": "python",
   "pygments_lexer": "ipython3",
   "version": "3.9.12"
  }
 },
 "nbformat": 4,
 "nbformat_minor": 2
}
